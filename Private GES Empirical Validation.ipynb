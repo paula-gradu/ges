{
 "cells": [
  {
   "cell_type": "code",
   "execution_count": 1,
   "metadata": {},
   "outputs": [],
   "source": [
    "%load_ext autoreload\n",
    "%autoreload 2    "
   ]
  },
  {
   "cell_type": "code",
   "execution_count": 2,
   "metadata": {},
   "outputs": [],
   "source": [
    "import numpy as np\n",
    "import statistics as stats\n",
    "import matplotlib.pyplot as plt \n",
    "from ges.utils import gaussian_experiment"
   ]
  },
  {
   "cell_type": "markdown",
   "metadata": {},
   "source": [
    "## Experiment Definition"
   ]
  },
  {
   "cell_type": "code",
   "execution_count": 5,
   "metadata": {},
   "outputs": [],
   "source": [
    "def G(d):\n",
    "    G = np.zeros((d, d))\n",
    "    #G[0,1] = 1.\n",
    "    return G\n",
    "    \n",
    "max_iter = np.inf\n",
    "\n",
    "adj_CI = None\n",
    "\n",
    "trials = 1\n",
    "err_level = .05\n",
    "\n",
    "loss = 'squared_error' # or 'huber'\n",
    "clip_data_range = None # or max bound (choose 1 for now please)\n",
    "\n",
    "eps_max = None\n",
    "eps_thrsh = None"
   ]
  },
  {
   "cell_type": "code",
   "execution_count": 6,
   "metadata": {},
   "outputs": [],
   "source": [
    "exp = lambda d, n: gaussian_experiment(G(d), n, trials, err_level, adj_CI, \\\n",
    "                   loss, clip_data_range, eps_max, eps_thrsh, max_iter)  "
   ]
  },
  {
   "cell_type": "markdown",
   "metadata": {},
   "source": [
    "## d=5, usual GES"
   ]
  },
  {
   "cell_type": "code",
   "execution_count": 12,
   "metadata": {},
   "outputs": [],
   "source": [
    "d = 5\n",
    "n_inc = 500\n",
    "n_iter = 5\n",
    "\n",
    "ges_results = np.zeros(n_iter)"
   ]
  },
  {
   "cell_type": "code",
   "execution_count": 6,
   "metadata": {},
   "outputs": [
    {
     "name": "stdout",
     "output_type": "stream",
     "text": [
      "n= 500 , metrics= 0.1\n",
      "n= 1000 , metrics= 0.1\n",
      "n= 1500 , metrics= 0.05\n",
      "n= 2000 , metrics= 0.09\n",
      "n= 2500 , metrics= 0.11\n"
     ]
    }
   ],
   "source": [
    "for i in range(n_iter):\n",
    "    n = (i+1)*n_inc\n",
    "    ges_results[i] = np.array(gaussian_experiment(G(d), n, trials, err_level, adj_CI, \\\n",
    "                   loss, clip_data_range, eps_max, eps_thrsh, max_iter))  \n",
    "    print(\"n=\", n, \", metrics=\", ges_results[i])"
   ]
  },
  {
   "cell_type": "markdown",
   "metadata": {},
   "source": [
    "## d=5, usual GES, max_iter=1"
   ]
  },
  {
   "cell_type": "code",
   "execution_count": 7,
   "metadata": {},
   "outputs": [],
   "source": [
    "max_iter = 1\n",
    "ges_results_1_iter = np.zeros(n_iter)"
   ]
  },
  {
   "cell_type": "code",
   "execution_count": 9,
   "metadata": {},
   "outputs": [
    {
     "name": "stdout",
     "output_type": "stream",
     "text": [
      "n= 500 , metrics= 0.1\n",
      "n= 1000 , metrics= 0.1\n",
      "n= 1500 , metrics= 0.05\n",
      "n= 2000 , metrics= 0.07\n",
      "n= 2500 , metrics= 0.07\n"
     ]
    }
   ],
   "source": [
    "for i in range(n_iter):\n",
    "    n = (i+1)*n_inc\n",
    "    ges_results_1_iter[i] = np.array(exp(d, n)) \n",
    "    print(\"n=\", n, \", metrics=\", ges_results_1_iter[i])"
   ]
  },
  {
   "cell_type": "markdown",
   "metadata": {},
   "source": [
    "## d=5, our GES, no CI correction"
   ]
  },
  {
   "cell_type": "code",
   "execution_count": 19,
   "metadata": {},
   "outputs": [],
   "source": [
    "max_iter = 1\n",
    "adj_CI = None\n",
    "\n",
    "#loss = 'huber' # or 'huber'\n",
    "clip_data_range = 1. # or max bound (choose 1 for now please)\n",
    "eps = 50."
   ]
  },
  {
   "cell_type": "code",
   "execution_count": 20,
   "metadata": {},
   "outputs": [],
   "source": [
    "priv_ges_results = np.zeros((n_iter, 2))"
   ]
  },
  {
   "cell_type": "code",
   "execution_count": 21,
   "metadata": {},
   "outputs": [
    {
     "name": "stdout",
     "output_type": "stream",
     "text": [
      "n= 500 , shd= 1.0\n",
      "n= 1000 , shd= 2.0\n",
      "n= 1500 , shd= 2.0\n",
      "n= 2000 , shd= 2.0\n",
      "n= 2500 , shd= 1.0\n"
     ]
    }
   ],
   "source": [
    "for i in range(n_iter):\n",
    "    n = (i+1)*n_inc\n",
    "    eps_max = eps / n\n",
    "    eps_thrsh = eps / n\n",
    "    priv_ges_results[i] = np.array(gaussian_experiment(G(d), n, trials, err_level, adj_CI, \\\n",
    "                   loss, clip_data_range, eps_max, eps_thrsh, max_iter)) \n",
    "    print(\"n=\", n, \", shd=\", priv_ges_results[i][1])"
   ]
  },
  {
   "cell_type": "markdown",
   "metadata": {},
   "source": [
    "## d=5, our GES, with CI correction"
   ]
  },
  {
   "cell_type": "code",
   "execution_count": 8,
   "metadata": {},
   "outputs": [],
   "source": [
    "adj_CI = True\n",
    "priv_ges_results_adj = np.zeros(n_iter)\n",
    "eps = 50."
   ]
  },
  {
   "cell_type": "code",
   "execution_count": 37,
   "metadata": {},
   "outputs": [
    {
     "name": "stdout",
     "output_type": "stream",
     "text": [
      "found an empty graph  16 times.\n",
      "n= 500 , metrics= 0.0\n",
      "found an empty graph  22 times.\n",
      "n= 1000 , metrics= 0.04\n",
      "found an empty graph  14 times.\n",
      "n= 1500 , metrics= 0.06\n",
      "found an empty graph  25 times.\n",
      "n= 2000 , metrics= 0.04\n",
      "found an empty graph  10 times.\n",
      "n= 2500 , metrics= 0.06\n"
     ]
    }
   ],
   "source": [
    "for i in range(n_iter):\n",
    "    n = (i+1)*n_inc\n",
    "    eps_max = eps / n\n",
    "    eps_thrsh = eps / n\n",
    "    priv_ges_results_adj[i] = np.array(gaussian_experiment(G(d), n, trials, err_level, adj_CI, \\\n",
    "                   loss, clip_data_range, eps_max, eps_thrsh, max_iter)) \n",
    "    print(\"n=\", n, \", metrics=\", priv_ges_results_adj[i])"
   ]
  },
  {
   "cell_type": "code",
   "execution_count": null,
   "metadata": {},
   "outputs": [],
   "source": []
  }
 ],
 "metadata": {
  "kernelspec": {
   "display_name": "Python 3",
   "language": "python",
   "name": "python3"
  },
  "language_info": {
   "codemirror_mode": {
    "name": "ipython",
    "version": 3
   },
   "file_extension": ".py",
   "mimetype": "text/x-python",
   "name": "python",
   "nbconvert_exporter": "python",
   "pygments_lexer": "ipython3",
   "version": "3.8.3"
  }
 },
 "nbformat": 4,
 "nbformat_minor": 4
}
