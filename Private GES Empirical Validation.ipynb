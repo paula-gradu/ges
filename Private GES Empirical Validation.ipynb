{
 "cells": [
  {
   "cell_type": "code",
   "execution_count": 1,
   "metadata": {},
   "outputs": [],
   "source": [
    "%load_ext autoreload\n",
    "%autoreload 2    "
   ]
  },
  {
   "cell_type": "code",
   "execution_count": 2,
   "metadata": {},
   "outputs": [],
   "source": [
    "import numpy as np\n",
    "import statistics as stats\n",
    "import matplotlib.pyplot as plt \n",
    "from ges.utils import gaussian_experiment"
   ]
  },
  {
   "cell_type": "markdown",
   "metadata": {},
   "source": [
    "## Experiment Definition"
   ]
  },
  {
   "cell_type": "code",
   "execution_count": 3,
   "metadata": {},
   "outputs": [],
   "source": [
    "G = lambda d: np.zeros((d, d))\n",
    "max_iter = 1\n",
    "\n",
    "trials = 10\n",
    "conf_level = .95\n",
    "\n",
    "loss = 'squared_error' # or 'huber'\n",
    "clip_data_range = None # or max bound (choose 1 for now please)\n",
    "\n",
    "eps_max = None\n",
    "eps_thrsh = None"
   ]
  },
  {
   "cell_type": "code",
   "execution_count": 4,
   "metadata": {},
   "outputs": [],
   "source": [
    "exp = lambda d, n: gaussian_experiment(G(d), n, trials, conf_level, \\\n",
    "                   loss, clip_data_range, eps_max, eps_thrsh, max_iter)  "
   ]
  },
  {
   "cell_type": "code",
   "execution_count": 5,
   "metadata": {},
   "outputs": [
    {
     "name": "stdout",
     "output_type": "stream",
     "text": [
      "-0.6309955214648061 -0.16890147622001986\n",
      "-0.010450962381860163 0.3568503611507285\n",
      "-0.7699403407868536 -0.361430344766667\n",
      "0.4364650603817696 0.8977118429375887\n",
      "-0.6202435599285736 -0.23490612209312223\n",
      "0.18567873023516568 0.5824179953564201\n",
      "0.34321392713975074 0.7652566039048632\n",
      "-0.7971737875245999 -0.09039029445231311\n",
      "0.6454341174876899 1.3551764195502727\n",
      "0.19408637758819342 0.6095395209562109\n"
     ]
    },
    {
     "data": {
      "text/plain": [
       "0.1"
      ]
     },
     "execution_count": 5,
     "metadata": {},
     "output_type": "execute_result"
    }
   ],
   "source": [
    "exp(10, 100)"
   ]
  },
  {
   "cell_type": "code",
   "execution_count": null,
   "metadata": {},
   "outputs": [],
   "source": []
  }
 ],
 "metadata": {
  "kernelspec": {
   "display_name": "Python 3",
   "language": "python",
   "name": "python3"
  },
  "language_info": {
   "codemirror_mode": {
    "name": "ipython",
    "version": 3
   },
   "file_extension": ".py",
   "mimetype": "text/x-python",
   "name": "python",
   "nbconvert_exporter": "python",
   "pygments_lexer": "ipython3",
   "version": "3.8.3"
  }
 },
 "nbformat": 4,
 "nbformat_minor": 4
}
