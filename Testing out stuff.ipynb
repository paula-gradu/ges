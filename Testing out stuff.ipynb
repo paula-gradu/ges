{
 "cells": [
  {
   "cell_type": "code",
   "execution_count": 11,
   "metadata": {},
   "outputs": [],
   "source": [
    "import sempler\n",
    "import numpy as np"
   ]
  },
  {
   "cell_type": "code",
   "execution_count": 12,
   "metadata": {},
   "outputs": [],
   "source": [
    "d=10\n",
    "n=500\n",
    "mu_range=(0, 0)\n",
    "sig_range=(1,1)\n",
    "G = np.zeros((d, d))"
   ]
  },
  {
   "cell_type": "code",
   "execution_count": 13,
   "metadata": {},
   "outputs": [],
   "source": [
    "data = sempler.LGANM(G, mu_range, sig_range).sample(n=n)"
   ]
  },
  {
   "cell_type": "code",
   "execution_count": 19,
   "metadata": {},
   "outputs": [
    {
     "data": {
      "text/plain": [
       "array([[-0.72626344,  0.07585139, -0.10986158, ...,  1.        ,\n",
       "         0.80243843, -0.81271047],\n",
       "       [ 0.8779588 , -1.        ,  0.70167249, ...,  0.3185581 ,\n",
       "         0.59498388, -0.1859266 ],\n",
       "       [-0.45730966, -0.88485328,  0.23642443, ...,  0.90730476,\n",
       "         1.        , -1.        ],\n",
       "       ...,\n",
       "       [-1.        , -0.22096168,  0.17511322, ..., -0.69245835,\n",
       "        -0.98886326,  1.        ],\n",
       "       [ 0.37505853, -1.        , -0.49017584, ...,  1.        ,\n",
       "        -0.77682649, -0.95407575],\n",
       "       [-0.79638556,  0.25258757,  0.65068874, ..., -0.06747963,\n",
       "        -1.        ,  0.54326758]])"
      ]
     },
     "execution_count": 19,
     "metadata": {},
     "output_type": "execute_result"
    }
   ],
   "source": [
    "np.clip(data, -1, 1)"
   ]
  },
  {
   "cell_type": "code",
   "execution_count": null,
   "metadata": {},
   "outputs": [],
   "source": []
  }
 ],
 "metadata": {
  "kernelspec": {
   "display_name": "Python 3",
   "language": "python",
   "name": "python3"
  },
  "language_info": {
   "codemirror_mode": {
    "name": "ipython",
    "version": 3
   },
   "file_extension": ".py",
   "mimetype": "text/x-python",
   "name": "python",
   "nbconvert_exporter": "python",
   "pygments_lexer": "ipython3",
   "version": "3.8.3"
  }
 },
 "nbformat": 4,
 "nbformat_minor": 4
}
