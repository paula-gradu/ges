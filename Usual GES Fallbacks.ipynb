{
 "cells": [
  {
   "cell_type": "code",
   "execution_count": 1,
   "metadata": {},
   "outputs": [],
   "source": [
    "import ges\n",
    "import sempler\n",
    "import numpy as np\n",
    "import scipy.stats as st"
   ]
  },
  {
   "cell_type": "markdown",
   "metadata": {},
   "source": [
    "## Find Causal Graph and get confidence interval [one trial]"
   ]
  },
  {
   "cell_type": "code",
   "execution_count": 231,
   "metadata": {},
   "outputs": [],
   "source": [
    "d = 20 # of attributes\n",
    "n = 500 # of datapoints\n",
    "\n",
    "mu_lb, mu_ub = 0, 10 # range for means of the d components\n",
    "sig_lb, sig_ub = 0, 10 # range for means of the variance components"
   ]
  },
  {
   "cell_type": "code",
   "execution_count": 232,
   "metadata": {},
   "outputs": [
    {
     "name": "stdout",
     "output_type": "stream",
     "text": [
      "[[0 0 0 0 0 0 0 0 0 0 0 0 0 0 0 0 0 0 0 0]\n",
      " [0 0 0 0 0 0 0 0 0 0 0 0 0 0 0 0 0 0 0 0]\n",
      " [0 0 0 0 0 0 0 0 0 0 0 0 0 0 0 0 0 0 0 0]\n",
      " [0 0 0 0 0 0 0 0 0 0 0 0 0 0 0 0 0 0 0 0]\n",
      " [0 0 0 0 0 0 0 0 0 0 0 0 0 0 0 0 0 0 0 0]\n",
      " [0 0 0 0 0 0 0 0 0 0 0 0 0 0 0 0 0 0 0 0]\n",
      " [0 0 0 0 0 0 0 0 0 0 0 0 0 0 0 0 0 0 0 0]\n",
      " [0 0 0 0 0 0 0 0 0 0 0 0 0 0 0 0 0 0 0 0]\n",
      " [0 0 0 0 0 0 0 0 0 0 0 0 0 0 0 0 0 0 0 0]\n",
      " [0 0 0 0 0 0 0 0 0 0 0 0 0 0 0 0 0 0 0 0]\n",
      " [0 0 0 0 0 0 0 0 0 0 0 0 0 0 0 0 0 0 0 0]\n",
      " [0 0 0 0 0 0 0 0 0 0 0 0 0 0 0 0 0 0 0 0]\n",
      " [0 0 0 0 0 0 0 0 0 0 0 0 0 0 0 0 0 0 1 0]\n",
      " [0 0 0 0 0 0 0 0 0 0 0 0 0 0 0 0 0 0 0 0]\n",
      " [0 0 0 0 0 0 0 0 0 0 0 0 0 0 0 0 0 1 0 0]\n",
      " [0 0 0 0 0 0 0 0 0 0 0 0 0 0 0 0 0 0 0 0]\n",
      " [0 0 0 0 0 0 0 0 0 0 0 0 0 0 0 0 0 0 0 0]\n",
      " [0 0 0 0 0 0 0 0 0 0 0 0 0 0 1 0 0 0 0 0]\n",
      " [0 0 0 0 0 0 0 0 0 0 0 0 1 0 0 0 0 0 0 0]\n",
      " [0 0 0 0 0 0 0 0 0 0 0 0 0 0 0 0 0 0 0 0]] 1.7115809898222238\n"
     ]
    }
   ],
   "source": [
    "# Generate observational data from a Gaussian SCM using sempler\n",
    "G = np.zeros((d, d))\n",
    "\n",
    "data = sempler.LGANM(G, (mu_lb, mu_ub), (sig_lb, sig_ub)).sample(n=n)\n",
    "\n",
    "# Run GES with the Gaussian BIC score\n",
    "estimate, score = ges.fit_bic(data, phases=['forward', 'backward'])\n",
    "\n",
    "print(estimate, score)"
   ]
  },
  {
   "cell_type": "code",
   "execution_count": 233,
   "metadata": {},
   "outputs": [],
   "source": [
    "connections = np.where(estimate>0)"
   ]
  },
  {
   "cell_type": "markdown",
   "metadata": {},
   "source": [
    "## Backdoor set"
   ]
  },
  {
   "cell_type": "code",
   "execution_count": 7,
   "metadata": {},
   "outputs": [],
   "source": [
    "def get_parents(x, G):\n",
    "    parents = []\n",
    "    for i in range(G.shape[0]):\n",
    "        if(G[i, x] == 1):\n",
    "            parents.append(i)\n",
    "    return parents"
   ]
  },
  {
   "cell_type": "code",
   "execution_count": 8,
   "metadata": {},
   "outputs": [],
   "source": [
    "def get_all_family(x, G):\n",
    "    visited = np.zeros(G.shape[0])\n",
    "    visited[x] = 1\n",
    "    \n",
    "    x_parents = get_parents(x, G)\n",
    "    to_search = x_parents\n",
    "    reach_from_x = []\n",
    "    \n",
    "    while len(to_search):\n",
    "        to_search_new = []\n",
    "        \n",
    "        for y in to_search:\n",
    "            if(visited[y]):\n",
    "                continue\n",
    "            else:\n",
    "                visited[y] = 1\n",
    "                \n",
    "            y_parents = get_parents(y, G)\n",
    "            to_search_new += y_parents\n",
    "            reach_from_x.append(y)\n",
    "            \n",
    "        to_search = to_search_new\n",
    "        \n",
    "    return reach_from_x"
   ]
  },
  {
   "cell_type": "code",
   "execution_count": 262,
   "metadata": {},
   "outputs": [
    {
     "data": {
      "text/plain": [
       "[18]"
      ]
     },
     "execution_count": 262,
     "metadata": {},
     "output_type": "execute_result"
    }
   ],
   "source": [
    "get_all_family(12, estimate)"
   ]
  },
  {
   "cell_type": "code",
   "execution_count": 263,
   "metadata": {},
   "outputs": [
    {
     "data": {
      "text/plain": [
       "[12]"
      ]
     },
     "execution_count": 263,
     "metadata": {},
     "output_type": "execute_result"
    }
   ],
   "source": [
    "get_all_family(18, estimate)"
   ]
  },
  {
   "cell_type": "code",
   "execution_count": null,
   "metadata": {},
   "outputs": [],
   "source": [
    "intersection = [x for x in get_all_family(12, estimate) if x in b]"
   ]
  },
  {
   "cell_type": "markdown",
   "metadata": {},
   "source": [
    "## Experiment Definition (assume n >= 30)"
   ]
  },
  {
   "cell_type": "code",
   "execution_count": 2,
   "metadata": {},
   "outputs": [],
   "source": [
    "def get_conf_interval(a, b, conf_lvl=.95):\n",
    "    effect_size, resid, _, _ = np.linalg.lstsq(a, b, rcond=None)\n",
    "    sq_tot_dev = sum([(a_i - np.mean(a))**2 for a_i in a])\n",
    "    SE = np.sqrt(resid / ((n-2) * sq_tot_dev))\n",
    "    conf = st.norm.ppf(conf_lvl) * SE\n",
    "    return (effect_size[0] - conf[0], effect_size[0] + conf[0])"
   ]
  },
  {
   "cell_type": "code",
   "execution_count": 5,
   "metadata": {},
   "outputs": [],
   "source": [
    "def experiment(d=10, n=500, trials=100, mu_range=(0, 10), sig_range=(0,10)):\n",
    "    success = 0\n",
    "    for trial in range(trials):\n",
    "        # start from empty causal graph, generate data & fit causal graph\n",
    "        G = np.zeros((d, d))\n",
    "        data = sempler.LGANM(G, mu_range, sig_range).sample(n=n)\n",
    "        estimate, score = ges.fit_bic(data, phases=['forward', 'backward'])\n",
    "        if(len(np.where(estimate>0)[0]) == 0): # GES found empty graph so it is correct and we stop early\n",
    "            success += 1\n",
    "            continue\n",
    "\n",
    "        # o/w choose arbirary edge & find confidence interval of effect size\n",
    "        connections = np.where(estimate>0)\n",
    "        #idx = np.random.randint(0, len(connections[0]))\n",
    "        \n",
    "        for idx in range(len(connections)):\n",
    "            ## check if needs backdoor adj\n",
    "            backdoor = [x for x in get_all_family(connections[0][idx], estimate) \\\n",
    "                        if x in get_all_family(connections[1][idx], estimate)]\n",
    "            if(len(backdoor) == 0):\n",
    "                break\n",
    "\n",
    "        A = data[:, connections[0][idx]].reshape((n,1))\n",
    "        for node in backdoor:\n",
    "            A = np.column_stack((A, data[:, node]))\n",
    "        b = data[:, connections[1][idx]]\n",
    "   \n",
    "        (conf_lb, conf_ub) = get_conf_interval(A, b)\n",
    "\n",
    "        # check if 0 is in the interval\n",
    "        if(conf_lb <= 0 and 0 <= conf_ub):\n",
    "            success+=1\n",
    "    return success / trials"
   ]
  },
  {
   "cell_type": "code",
   "execution_count": 11,
   "metadata": {},
   "outputs": [
    {
     "name": "stdout",
     "output_type": "stream",
     "text": [
      "d= 15 , n= 100  results: [0.23, 0.23, 0.14, 0.21, 0.21]\n",
      "d= 15 , n= 300  results: [0.18, 0.28, 0.19, 0.23, 0.26]\n",
      "d= 15 , n= 500  results: [0.41, 0.27, 0.3, 0.33, 0.38]\n",
      "d= 15 , n= 700  results: [0.34, 0.35, 0.4, 0.37, 0.37]\n",
      "d= 15 , n= 900  results: [0.42, 0.4, 0.33, 0.29, 0.38]\n"
     ]
    }
   ],
   "source": [
    "results = {}\n",
    "\n",
    "for d in [15]:\n",
    "    for n in range(100, 901, 200):\n",
    "        results[(d,n)] = []\n",
    "        for seed in range(5):\n",
    "            results[(d,n)].append(experiment(d=d, n=n))\n",
    "        \n",
    "        print(\"d=\",d, \", n=\", n,\" results:\", results[(d,n)])"
   ]
  },
  {
   "cell_type": "code",
   "execution_count": null,
   "metadata": {},
   "outputs": [],
   "source": []
  },
  {
   "cell_type": "code",
   "execution_count": null,
   "metadata": {},
   "outputs": [],
   "source": [
    "# get confidence intervals for even these things, plot as fn of n, and multiple vals of d"
   ]
  }
 ],
 "metadata": {
  "kernelspec": {
   "display_name": "Python 3",
   "language": "python",
   "name": "python3"
  },
  "language_info": {
   "codemirror_mode": {
    "name": "ipython",
    "version": 3
   },
   "file_extension": ".py",
   "mimetype": "text/x-python",
   "name": "python",
   "nbconvert_exporter": "python",
   "pygments_lexer": "ipython3",
   "version": "3.8.3"
  }
 },
 "nbformat": 4,
 "nbformat_minor": 4
}
