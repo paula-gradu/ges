{
 "cells": [
  {
   "cell_type": "code",
   "execution_count": 1,
   "metadata": {},
   "outputs": [],
   "source": [
    "%load_ext autoreload\n",
    "%autoreload 2    "
   ]
  },
  {
   "cell_type": "code",
   "execution_count": 2,
   "metadata": {},
   "outputs": [],
   "source": [
    "import ges\n",
    "import sempler\n",
    "import numpy as np\n",
    "import scipy.stats as st\n",
    "from ges.scores.gauss_obs_l0_pen import GaussObsL0Pen\n",
    "from ges.scores.general import GeneralScore"
   ]
  },
  {
   "cell_type": "markdown",
   "metadata": {},
   "source": [
    "## Find Causal Graph and get confidence interval [one trial]"
   ]
  },
  {
   "cell_type": "code",
   "execution_count": 3,
   "metadata": {},
   "outputs": [],
   "source": [
    "d = 20 # of attributes\n",
    "n = 500 # of datapoints\n",
    "\n",
    "mu_lb, mu_ub = 0, 10 # range for means of the d components\n",
    "sig_lb, sig_ub = 0, 10 # range for means of the variance components"
   ]
  },
  {
   "cell_type": "markdown",
   "metadata": {},
   "source": [
    "## useful fns"
   ]
  },
  {
   "cell_type": "code",
   "execution_count": 4,
   "metadata": {},
   "outputs": [],
   "source": [
    "def get_parents(x, G):\n",
    "    parents = []\n",
    "    for i in range(G.shape[0]):\n",
    "        if(G[i, x] == 1):\n",
    "            parents.append(i)\n",
    "    return parents"
   ]
  },
  {
   "cell_type": "code",
   "execution_count": 5,
   "metadata": {},
   "outputs": [],
   "source": [
    "def get_all_family(x, G):\n",
    "    visited = np.zeros(G.shape[0])\n",
    "    visited[x] = 1\n",
    "    \n",
    "    x_parents = get_parents(x, G)\n",
    "    to_search = x_parents\n",
    "    reach_from_x = []\n",
    "    \n",
    "    while len(to_search):\n",
    "        to_search_new = []\n",
    "        \n",
    "        for y in to_search:\n",
    "            if(visited[y]):\n",
    "                continue\n",
    "            else:\n",
    "                visited[y] = 1\n",
    "                \n",
    "            y_parents = get_parents(y, G)\n",
    "            to_search_new += y_parents\n",
    "            reach_from_x.append(y)\n",
    "            \n",
    "        to_search = to_search_new\n",
    "        \n",
    "    return reach_from_x"
   ]
  },
  {
   "cell_type": "markdown",
   "metadata": {},
   "source": [
    "## Experiment Definition (assume n >= 30)"
   ]
  },
  {
   "cell_type": "code",
   "execution_count": 6,
   "metadata": {},
   "outputs": [],
   "source": [
    "def get_conf_interval(a, b, conf_lvl=.95):\n",
    "    effect_size, resid, _, _ = np.linalg.lstsq(a, b, rcond=None)\n",
    "    sq_tot_dev = sum([(a_i - np.mean(a))**2 for a_i in a])\n",
    "    SE = np.sqrt(resid / ((n-2) * sq_tot_dev))\n",
    "    conf = st.norm.ppf(conf_lvl) * SE\n",
    "    return (effect_size[0] - conf[0], effect_size[0] + conf[0])"
   ]
  },
  {
   "cell_type": "code",
   "execution_count": 7,
   "metadata": {},
   "outputs": [],
   "source": [
    "def experiment(d=10, n=500, trials=30, eps_noisy_max=0, eps_abv_thrsh=0, mu_range=(0, 10), sig_range=(1,1)):\n",
    "    success = 0\n",
    "    for trial in range(trials):\n",
    "        # start from empty causal graph, generate data & fit causal graph\n",
    "        G = np.zeros((d, d))\n",
    "        data = sempler.LGANM(G, mu_range, sig_range).sample(n=n)\n",
    "        estimate, score = ges.fit(GeneralScore(data), eps_noisy_max=eps_noisy_max, \\\n",
    "                                  eps_abv_thrsh=eps_abv_thrsh, max_iter=1)\n",
    "        if(len(np.where(estimate>0)[0]) == 0): # GES found empty graph so it is correct and we stop early\n",
    "            success += 1\n",
    "            continue\n",
    "\n",
    "        # o/w choose arbirary edge & find confidence interval of effect size\n",
    "        connections = np.where(estimate>0)\n",
    "        #idx = np.random.randint(0, len(connections[0]))\n",
    "        \n",
    "        for idx in range(len(connections)):\n",
    "            ## check if needs backdoor adj\n",
    "            backdoor = [x for x in get_all_family(connections[0][idx], estimate) \\\n",
    "                        if x in get_all_family(connections[1][idx], estimate)]\n",
    "            if(len(backdoor) == 0):\n",
    "                break\n",
    "\n",
    "        A = data[:, connections[0][idx]].reshape((n,1))\n",
    "        for node in backdoor:\n",
    "            A = np.column_stack((A, data[:, node]))\n",
    "        b = data[:, connections[1][idx]]\n",
    "   \n",
    "        (conf_lb, conf_ub) = get_conf_interval(A, b)\n",
    "\n",
    "        # check if 0 is in the interval\n",
    "        if(conf_lb <= 0 and 0 <= conf_ub):\n",
    "            success+=1\n",
    "            \n",
    "    return success / trials"
   ]
  },
  {
   "cell_type": "code",
   "execution_count": 8,
   "metadata": {},
   "outputs": [],
   "source": [
    "results = {}"
   ]
  },
  {
   "cell_type": "code",
   "execution_count": 9,
   "metadata": {},
   "outputs": [
    {
     "name": "stdout",
     "output_type": "stream",
     "text": [
      "noise_lvl= 0 d= 2 , n= 10  results: [1.0, 1.0, 1.0, 1.0, 1.0]\n",
      "noise_lvl= 0 d= 2 , n= 210  results: [1.0, 1.0, 1.0, 1.0, 1.0]\n",
      "noise_lvl= 0 d= 2 , n= 410  results: [1.0, 1.0, 1.0, 1.0, 1.0]\n",
      "noise_lvl= 0 d= 2 , n= 610  results: [1.0, 1.0, 1.0, 1.0, 1.0]\n",
      "noise_lvl= 0 d= 2 , n= 810  results: [1.0, 1.0, 1.0, 1.0, 1.0]\n",
      "noise_lvl= 100 d= 2 , n= 10  results: [0.8666666666666667, 0.8666666666666667, 0.9333333333333333, 0.9333333333333333, 0.9]\n",
      "noise_lvl= 100 d= 2 , n= 210  results: [0.9333333333333333, 0.9666666666666667, 0.9333333333333333, 0.9, 0.9666666666666667]\n",
      "noise_lvl= 100 d= 2 , n= 410  results: [1.0, 0.9, 0.9333333333333333, 1.0, 0.9666666666666667]\n"
     ]
    },
    {
     "ename": "KeyboardInterrupt",
     "evalue": "",
     "output_type": "error",
     "traceback": [
      "\u001b[0;31m---------------------------------------------------------------------------\u001b[0m",
      "\u001b[0;31mKeyboardInterrupt\u001b[0m                         Traceback (most recent call last)",
      "\u001b[0;32m<ipython-input-9-6304c53597fc>\u001b[0m in \u001b[0;36m<module>\u001b[0;34m\u001b[0m\n\u001b[1;32m      4\u001b[0m             \u001b[0mresults\u001b[0m\u001b[0;34m[\u001b[0m\u001b[0;34m(\u001b[0m\u001b[0mnoise_lvl\u001b[0m\u001b[0;34m,\u001b[0m\u001b[0md\u001b[0m\u001b[0;34m,\u001b[0m\u001b[0mn\u001b[0m\u001b[0;34m)\u001b[0m\u001b[0;34m]\u001b[0m \u001b[0;34m=\u001b[0m \u001b[0;34m[\u001b[0m\u001b[0;34m]\u001b[0m\u001b[0;34m\u001b[0m\u001b[0;34m\u001b[0m\u001b[0m\n\u001b[1;32m      5\u001b[0m             \u001b[0;32mfor\u001b[0m \u001b[0mseed\u001b[0m \u001b[0;32min\u001b[0m \u001b[0mrange\u001b[0m\u001b[0;34m(\u001b[0m\u001b[0;36m5\u001b[0m\u001b[0;34m)\u001b[0m\u001b[0;34m:\u001b[0m\u001b[0;34m\u001b[0m\u001b[0;34m\u001b[0m\u001b[0m\n\u001b[0;32m----> 6\u001b[0;31m                 results[(noise_lvl,d,n)].append(experiment(d=d, n=n, eps_noisy_max=noise_lvl/n, \\\n\u001b[0m\u001b[1;32m      7\u001b[0m                                                             eps_abv_thrsh=noise_lvl/n))\n\u001b[1;32m      8\u001b[0m \u001b[0;34m\u001b[0m\u001b[0m\n",
      "\u001b[0;32m<ipython-input-7-b258982dc144>\u001b[0m in \u001b[0;36mexperiment\u001b[0;34m(d, n, trials, eps_noisy_max, eps_abv_thrsh, mu_range, sig_range)\u001b[0m\n\u001b[1;32m      5\u001b[0m         \u001b[0mG\u001b[0m \u001b[0;34m=\u001b[0m \u001b[0mnp\u001b[0m\u001b[0;34m.\u001b[0m\u001b[0mzeros\u001b[0m\u001b[0;34m(\u001b[0m\u001b[0;34m(\u001b[0m\u001b[0md\u001b[0m\u001b[0;34m,\u001b[0m \u001b[0md\u001b[0m\u001b[0;34m)\u001b[0m\u001b[0;34m)\u001b[0m\u001b[0;34m\u001b[0m\u001b[0;34m\u001b[0m\u001b[0m\n\u001b[1;32m      6\u001b[0m         \u001b[0mdata\u001b[0m \u001b[0;34m=\u001b[0m \u001b[0msempler\u001b[0m\u001b[0;34m.\u001b[0m\u001b[0mLGANM\u001b[0m\u001b[0;34m(\u001b[0m\u001b[0mG\u001b[0m\u001b[0;34m,\u001b[0m \u001b[0mmu_range\u001b[0m\u001b[0;34m,\u001b[0m \u001b[0msig_range\u001b[0m\u001b[0;34m)\u001b[0m\u001b[0;34m.\u001b[0m\u001b[0msample\u001b[0m\u001b[0;34m(\u001b[0m\u001b[0mn\u001b[0m\u001b[0;34m=\u001b[0m\u001b[0mn\u001b[0m\u001b[0;34m)\u001b[0m\u001b[0;34m\u001b[0m\u001b[0;34m\u001b[0m\u001b[0m\n\u001b[0;32m----> 7\u001b[0;31m         estimate, score = ges.fit(GeneralScore(data), eps_noisy_max=eps_noisy_max, \\\n\u001b[0m\u001b[1;32m      8\u001b[0m                                   eps_abv_thrsh=eps_abv_thrsh, max_iter=1)\n\u001b[1;32m      9\u001b[0m         \u001b[0;32mif\u001b[0m\u001b[0;34m(\u001b[0m\u001b[0mlen\u001b[0m\u001b[0;34m(\u001b[0m\u001b[0mnp\u001b[0m\u001b[0;34m.\u001b[0m\u001b[0mwhere\u001b[0m\u001b[0;34m(\u001b[0m\u001b[0mestimate\u001b[0m\u001b[0;34m>\u001b[0m\u001b[0;36m0\u001b[0m\u001b[0;34m)\u001b[0m\u001b[0;34m[\u001b[0m\u001b[0;36m0\u001b[0m\u001b[0;34m]\u001b[0m\u001b[0;34m)\u001b[0m \u001b[0;34m==\u001b[0m \u001b[0;36m0\u001b[0m\u001b[0;34m)\u001b[0m\u001b[0;34m:\u001b[0m \u001b[0;31m# GES found empty graph so it is correct and we stop early\u001b[0m\u001b[0;34m\u001b[0m\u001b[0;34m\u001b[0m\u001b[0m\n",
      "\u001b[0;32m~/src/ges/ges/main.py\u001b[0m in \u001b[0;36mfit\u001b[0;34m(score_class, A0, phases, eps_noisy_max, eps_abv_thrsh, max_iter, iterate, debug)\u001b[0m\n\u001b[1;32m    199\u001b[0m             \u001b[0madded\u001b[0m \u001b[0;34m=\u001b[0m \u001b[0;36m0\u001b[0m\u001b[0;34m\u001b[0m\u001b[0;34m\u001b[0m\u001b[0m\n\u001b[1;32m    200\u001b[0m             \u001b[0;32mwhile\u001b[0m \u001b[0madded\u001b[0m \u001b[0;34m<=\u001b[0m \u001b[0mmax_iter\u001b[0m\u001b[0;34m:\u001b[0m\u001b[0;34m\u001b[0m\u001b[0;34m\u001b[0m\u001b[0m\n\u001b[0;32m--> 201\u001b[0;31m                 \u001b[0mscore_change\u001b[0m\u001b[0;34m,\u001b[0m \u001b[0mnew_A\u001b[0m \u001b[0;34m=\u001b[0m \u001b[0mfun\u001b[0m\u001b[0;34m(\u001b[0m\u001b[0mA\u001b[0m\u001b[0;34m,\u001b[0m \u001b[0mscore_class\u001b[0m\u001b[0;34m,\u001b[0m \u001b[0meps_noisy_max\u001b[0m\u001b[0;34m,\u001b[0m \u001b[0mmax\u001b[0m\u001b[0;34m(\u001b[0m\u001b[0;36m0\u001b[0m\u001b[0;34m,\u001b[0m \u001b[0mdebug\u001b[0m \u001b[0;34m-\u001b[0m \u001b[0;36m1\u001b[0m\u001b[0;34m)\u001b[0m\u001b[0;34m)\u001b[0m\u001b[0;34m\u001b[0m\u001b[0;34m\u001b[0m\u001b[0m\n\u001b[0m\u001b[1;32m    202\u001b[0m                 \u001b[0mscore_change\u001b[0m \u001b[0;34m+=\u001b[0m \u001b[0mnp\u001b[0m\u001b[0;34m.\u001b[0m\u001b[0mrandom\u001b[0m\u001b[0;34m.\u001b[0m\u001b[0mlaplace\u001b[0m\u001b[0;34m(\u001b[0m\u001b[0mscale\u001b[0m\u001b[0;34m=\u001b[0m\u001b[0;36m2\u001b[0m\u001b[0;34m*\u001b[0m\u001b[0meps_abv_thrsh\u001b[0m\u001b[0;34m)\u001b[0m\u001b[0;34m\u001b[0m\u001b[0;34m\u001b[0m\u001b[0m\n\u001b[1;32m    203\u001b[0m                 \u001b[0;32mif\u001b[0m \u001b[0mscore_change\u001b[0m \u001b[0;34m>\u001b[0m \u001b[0mthreshold\u001b[0m\u001b[0;34m:\u001b[0m\u001b[0;34m\u001b[0m\u001b[0;34m\u001b[0m\u001b[0m\n",
      "\u001b[0;32m~/src/ges/ges/main.py\u001b[0m in \u001b[0;36mforward_step\u001b[0;34m(A, cache, eps_noisy_max, debug)\u001b[0m\n\u001b[1;32m    250\u001b[0m     \u001b[0mprint\u001b[0m\u001b[0;34m(\u001b[0m\u001b[0;34m\"  %d candidate edges\"\u001b[0m \u001b[0;34m%\u001b[0m \u001b[0mlen\u001b[0m\u001b[0;34m(\u001b[0m\u001b[0medge_candidates\u001b[0m\u001b[0;34m)\u001b[0m\u001b[0;34m)\u001b[0m \u001b[0;32mif\u001b[0m \u001b[0mdebug\u001b[0m \u001b[0;34m>\u001b[0m \u001b[0;36m1\u001b[0m \u001b[0;32melse\u001b[0m \u001b[0;32mNone\u001b[0m\u001b[0;34m\u001b[0m\u001b[0;34m\u001b[0m\u001b[0m\n\u001b[1;32m    251\u001b[0m     \u001b[0;32mfor\u001b[0m \u001b[0;34m(\u001b[0m\u001b[0mx\u001b[0m\u001b[0;34m,\u001b[0m \u001b[0my\u001b[0m\u001b[0;34m)\u001b[0m \u001b[0;32min\u001b[0m \u001b[0medge_candidates\u001b[0m\u001b[0;34m:\u001b[0m\u001b[0;34m\u001b[0m\u001b[0;34m\u001b[0m\u001b[0m\n\u001b[0;32m--> 252\u001b[0;31m         \u001b[0mvalid_operators\u001b[0m \u001b[0;34m+=\u001b[0m \u001b[0mscore_valid_insert_operators\u001b[0m\u001b[0;34m(\u001b[0m\u001b[0mx\u001b[0m\u001b[0;34m,\u001b[0m \u001b[0my\u001b[0m\u001b[0;34m,\u001b[0m \u001b[0mA\u001b[0m\u001b[0;34m,\u001b[0m \u001b[0mcache\u001b[0m\u001b[0;34m,\u001b[0m \u001b[0mdebug\u001b[0m\u001b[0;34m=\u001b[0m\u001b[0mmax\u001b[0m\u001b[0;34m(\u001b[0m\u001b[0;36m0\u001b[0m\u001b[0;34m,\u001b[0m \u001b[0mdebug\u001b[0m \u001b[0;34m-\u001b[0m \u001b[0;36m1\u001b[0m\u001b[0;34m)\u001b[0m\u001b[0;34m)\u001b[0m\u001b[0;34m\u001b[0m\u001b[0;34m\u001b[0m\u001b[0m\n\u001b[0m\u001b[1;32m    253\u001b[0m     \u001b[0;31m# Pick the edge/operator with the highest score\u001b[0m\u001b[0;34m\u001b[0m\u001b[0;34m\u001b[0m\u001b[0;34m\u001b[0m\u001b[0m\n\u001b[1;32m    254\u001b[0m     \u001b[0;32mif\u001b[0m \u001b[0mlen\u001b[0m\u001b[0;34m(\u001b[0m\u001b[0mvalid_operators\u001b[0m\u001b[0;34m)\u001b[0m \u001b[0;34m==\u001b[0m \u001b[0;36m0\u001b[0m\u001b[0;34m:\u001b[0m\u001b[0;34m\u001b[0m\u001b[0;34m\u001b[0m\u001b[0m\n",
      "\u001b[0;32m~/src/ges/ges/main.py\u001b[0m in \u001b[0;36mscore_valid_insert_operators\u001b[0;34m(x, y, A, cache, debug)\u001b[0m\n\u001b[1;32m    494\u001b[0m             \u001b[0maux\u001b[0m \u001b[0;34m=\u001b[0m \u001b[0mna_yxT\u001b[0m \u001b[0;34m|\u001b[0m \u001b[0mutils\u001b[0m\u001b[0;34m.\u001b[0m\u001b[0mpa\u001b[0m\u001b[0;34m(\u001b[0m\u001b[0my\u001b[0m\u001b[0;34m,\u001b[0m \u001b[0mA\u001b[0m\u001b[0;34m)\u001b[0m\u001b[0;34m\u001b[0m\u001b[0;34m\u001b[0m\u001b[0m\n\u001b[1;32m    495\u001b[0m             \u001b[0mold_score\u001b[0m \u001b[0;34m=\u001b[0m \u001b[0mcache\u001b[0m\u001b[0;34m.\u001b[0m\u001b[0mlocal_score\u001b[0m\u001b[0;34m(\u001b[0m\u001b[0my\u001b[0m\u001b[0;34m,\u001b[0m \u001b[0maux\u001b[0m\u001b[0;34m)\u001b[0m\u001b[0;34m\u001b[0m\u001b[0;34m\u001b[0m\u001b[0m\n\u001b[0;32m--> 496\u001b[0;31m             \u001b[0mnew_score\u001b[0m \u001b[0;34m=\u001b[0m \u001b[0mcache\u001b[0m\u001b[0;34m.\u001b[0m\u001b[0mlocal_score\u001b[0m\u001b[0;34m(\u001b[0m\u001b[0my\u001b[0m\u001b[0;34m,\u001b[0m \u001b[0maux\u001b[0m \u001b[0;34m|\u001b[0m \u001b[0;34m{\u001b[0m\u001b[0mx\u001b[0m\u001b[0;34m}\u001b[0m\u001b[0;34m)\u001b[0m\u001b[0;34m\u001b[0m\u001b[0;34m\u001b[0m\u001b[0m\n\u001b[0m\u001b[1;32m    497\u001b[0m             print(\"        new: s(%d, %s) = %0.6f old: s(%d, %s) = %0.6f\" %\n\u001b[1;32m    498\u001b[0m                   (y, aux | {x}, new_score, y, aux, old_score)) if debug > 1 else None\n",
      "\u001b[0;32m~/src/ges/ges/scores/decomposable_score.py\u001b[0m in \u001b[0;36mlocal_score\u001b[0;34m(self, x, pa)\u001b[0m\n\u001b[1;32m     77\u001b[0m         \"\"\"\n\u001b[1;32m     78\u001b[0m         \u001b[0;32mif\u001b[0m \u001b[0mself\u001b[0m\u001b[0;34m.\u001b[0m\u001b[0m_cache\u001b[0m \u001b[0;32mis\u001b[0m \u001b[0;32mNone\u001b[0m\u001b[0;34m:\u001b[0m\u001b[0;34m\u001b[0m\u001b[0;34m\u001b[0m\u001b[0m\n\u001b[0;32m---> 79\u001b[0;31m             \u001b[0;32mreturn\u001b[0m \u001b[0mself\u001b[0m\u001b[0;34m.\u001b[0m\u001b[0m_compute_local_score\u001b[0m\u001b[0;34m(\u001b[0m\u001b[0mx\u001b[0m\u001b[0;34m,\u001b[0m \u001b[0mpa\u001b[0m\u001b[0;34m)\u001b[0m\u001b[0;34m\u001b[0m\u001b[0;34m\u001b[0m\u001b[0m\n\u001b[0m\u001b[1;32m     80\u001b[0m         \u001b[0;32melse\u001b[0m\u001b[0;34m:\u001b[0m\u001b[0;34m\u001b[0m\u001b[0;34m\u001b[0m\u001b[0m\n\u001b[1;32m     81\u001b[0m             \u001b[0mkey\u001b[0m \u001b[0;34m=\u001b[0m \u001b[0;34m(\u001b[0m\u001b[0mx\u001b[0m\u001b[0;34m,\u001b[0m \u001b[0mtuple\u001b[0m\u001b[0;34m(\u001b[0m\u001b[0msorted\u001b[0m\u001b[0;34m(\u001b[0m\u001b[0mpa\u001b[0m\u001b[0;34m)\u001b[0m\u001b[0;34m)\u001b[0m\u001b[0;34m)\u001b[0m\u001b[0;34m\u001b[0m\u001b[0;34m\u001b[0m\u001b[0m\n",
      "\u001b[0;32m~/src/ges/ges/scores/general.py\u001b[0m in \u001b[0;36m_compute_local_score\u001b[0;34m(self, x, pa)\u001b[0m\n\u001b[1;32m     91\u001b[0m         \u001b[0;32mif\u001b[0m \u001b[0mlen\u001b[0m\u001b[0;34m(\u001b[0m\u001b[0mpa\u001b[0m\u001b[0;34m)\u001b[0m \u001b[0;34m>\u001b[0m \u001b[0;36m0\u001b[0m\u001b[0;34m:\u001b[0m\u001b[0;34m\u001b[0m\u001b[0;34m\u001b[0m\u001b[0m\n\u001b[1;32m     92\u001b[0m             \u001b[0mX\u001b[0m \u001b[0;34m=\u001b[0m \u001b[0mself\u001b[0m\u001b[0;34m.\u001b[0m\u001b[0mdata\u001b[0m\u001b[0;34m[\u001b[0m\u001b[0;34m:\u001b[0m\u001b[0;34m,\u001b[0m \u001b[0mlist\u001b[0m\u001b[0;34m(\u001b[0m\u001b[0mpa\u001b[0m\u001b[0;34m)\u001b[0m\u001b[0;34m]\u001b[0m\u001b[0;34m\u001b[0m\u001b[0;34m\u001b[0m\u001b[0m\n\u001b[0;32m---> 93\u001b[0;31m             \u001b[0mself\u001b[0m\u001b[0;34m.\u001b[0m\u001b[0mregressor\u001b[0m\u001b[0;34m.\u001b[0m\u001b[0mfit\u001b[0m\u001b[0;34m(\u001b[0m\u001b[0mX\u001b[0m\u001b[0;34m,\u001b[0m \u001b[0my\u001b[0m\u001b[0;34m)\u001b[0m\u001b[0;34m\u001b[0m\u001b[0;34m\u001b[0m\u001b[0m\n\u001b[0m\u001b[1;32m     94\u001b[0m             \u001b[0mresid\u001b[0m \u001b[0;34m=\u001b[0m \u001b[0mnp\u001b[0m\u001b[0;34m.\u001b[0m\u001b[0mabsolute\u001b[0m\u001b[0;34m(\u001b[0m\u001b[0mx\u001b[0m \u001b[0;34m-\u001b[0m \u001b[0mself\u001b[0m\u001b[0;34m.\u001b[0m\u001b[0mregressor\u001b[0m\u001b[0;34m.\u001b[0m\u001b[0mpredict\u001b[0m\u001b[0;34m(\u001b[0m\u001b[0mX\u001b[0m\u001b[0;34m)\u001b[0m\u001b[0;34m)\u001b[0m\u001b[0;34m\u001b[0m\u001b[0;34m\u001b[0m\u001b[0m\n\u001b[1;32m     95\u001b[0m         \u001b[0;32melse\u001b[0m\u001b[0;34m:\u001b[0m\u001b[0;34m\u001b[0m\u001b[0;34m\u001b[0m\u001b[0m\n",
      "\u001b[0;32m~/opt/anaconda3/lib/python3.8/site-packages/sklearn/linear_model/_stochastic_gradient.py\u001b[0m in \u001b[0;36mfit\u001b[0;34m(self, X, y, coef_init, intercept_init, sample_weight)\u001b[0m\n\u001b[1;32m   1535\u001b[0m             \u001b[0mFitted\u001b[0m\u001b[0;31m \u001b[0m\u001b[0;31m`\u001b[0m\u001b[0mSGDRegressor\u001b[0m\u001b[0;31m`\u001b[0m \u001b[0mestimator\u001b[0m\u001b[0;34m.\u001b[0m\u001b[0;34m\u001b[0m\u001b[0;34m\u001b[0m\u001b[0m\n\u001b[1;32m   1536\u001b[0m         \"\"\"\n\u001b[0;32m-> 1537\u001b[0;31m         return self._fit(\n\u001b[0m\u001b[1;32m   1538\u001b[0m             \u001b[0mX\u001b[0m\u001b[0;34m,\u001b[0m\u001b[0;34m\u001b[0m\u001b[0;34m\u001b[0m\u001b[0m\n\u001b[1;32m   1539\u001b[0m             \u001b[0my\u001b[0m\u001b[0;34m,\u001b[0m\u001b[0;34m\u001b[0m\u001b[0;34m\u001b[0m\u001b[0m\n",
      "\u001b[0;32m~/opt/anaconda3/lib/python3.8/site-packages/sklearn/linear_model/_stochastic_gradient.py\u001b[0m in \u001b[0;36m_fit\u001b[0;34m(self, X, y, alpha, C, loss, learning_rate, coef_init, intercept_init, sample_weight)\u001b[0m\n\u001b[1;32m   1483\u001b[0m         \u001b[0mself\u001b[0m\u001b[0;34m.\u001b[0m\u001b[0mt_\u001b[0m \u001b[0;34m=\u001b[0m \u001b[0;36m1.0\u001b[0m\u001b[0;34m\u001b[0m\u001b[0;34m\u001b[0m\u001b[0m\n\u001b[1;32m   1484\u001b[0m \u001b[0;34m\u001b[0m\u001b[0m\n\u001b[0;32m-> 1485\u001b[0;31m         self._partial_fit(\n\u001b[0m\u001b[1;32m   1486\u001b[0m             \u001b[0mX\u001b[0m\u001b[0;34m,\u001b[0m\u001b[0;34m\u001b[0m\u001b[0;34m\u001b[0m\u001b[0m\n\u001b[1;32m   1487\u001b[0m             \u001b[0my\u001b[0m\u001b[0;34m,\u001b[0m\u001b[0;34m\u001b[0m\u001b[0;34m\u001b[0m\u001b[0m\n",
      "\u001b[0;32m~/opt/anaconda3/lib/python3.8/site-packages/sklearn/linear_model/_stochastic_gradient.py\u001b[0m in \u001b[0;36m_partial_fit\u001b[0;34m(self, X, y, alpha, C, loss, learning_rate, max_iter, sample_weight, coef_init, intercept_init)\u001b[0m\n\u001b[1;32m   1390\u001b[0m     ):\n\u001b[1;32m   1391\u001b[0m         \u001b[0mfirst_call\u001b[0m \u001b[0;34m=\u001b[0m \u001b[0mgetattr\u001b[0m\u001b[0;34m(\u001b[0m\u001b[0mself\u001b[0m\u001b[0;34m,\u001b[0m \u001b[0;34m\"coef_\"\u001b[0m\u001b[0;34m,\u001b[0m \u001b[0;32mNone\u001b[0m\u001b[0;34m)\u001b[0m \u001b[0;32mis\u001b[0m \u001b[0;32mNone\u001b[0m\u001b[0;34m\u001b[0m\u001b[0;34m\u001b[0m\u001b[0m\n\u001b[0;32m-> 1392\u001b[0;31m         X, y = self._validate_data(\n\u001b[0m\u001b[1;32m   1393\u001b[0m             \u001b[0mX\u001b[0m\u001b[0;34m,\u001b[0m\u001b[0;34m\u001b[0m\u001b[0;34m\u001b[0m\u001b[0m\n\u001b[1;32m   1394\u001b[0m             \u001b[0my\u001b[0m\u001b[0;34m,\u001b[0m\u001b[0;34m\u001b[0m\u001b[0;34m\u001b[0m\u001b[0m\n",
      "\u001b[0;32m~/opt/anaconda3/lib/python3.8/site-packages/sklearn/base.py\u001b[0m in \u001b[0;36m_validate_data\u001b[0;34m(self, X, y, reset, validate_separately, **check_params)\u001b[0m\n\u001b[1;32m    574\u001b[0m                 \u001b[0my\u001b[0m \u001b[0;34m=\u001b[0m \u001b[0mcheck_array\u001b[0m\u001b[0;34m(\u001b[0m\u001b[0my\u001b[0m\u001b[0;34m,\u001b[0m \u001b[0;34m**\u001b[0m\u001b[0mcheck_y_params\u001b[0m\u001b[0;34m)\u001b[0m\u001b[0;34m\u001b[0m\u001b[0;34m\u001b[0m\u001b[0m\n\u001b[1;32m    575\u001b[0m             \u001b[0;32melse\u001b[0m\u001b[0;34m:\u001b[0m\u001b[0;34m\u001b[0m\u001b[0;34m\u001b[0m\u001b[0m\n\u001b[0;32m--> 576\u001b[0;31m                 \u001b[0mX\u001b[0m\u001b[0;34m,\u001b[0m \u001b[0my\u001b[0m \u001b[0;34m=\u001b[0m \u001b[0mcheck_X_y\u001b[0m\u001b[0;34m(\u001b[0m\u001b[0mX\u001b[0m\u001b[0;34m,\u001b[0m \u001b[0my\u001b[0m\u001b[0;34m,\u001b[0m \u001b[0;34m**\u001b[0m\u001b[0mcheck_params\u001b[0m\u001b[0;34m)\u001b[0m\u001b[0;34m\u001b[0m\u001b[0;34m\u001b[0m\u001b[0m\n\u001b[0m\u001b[1;32m    577\u001b[0m             \u001b[0mout\u001b[0m \u001b[0;34m=\u001b[0m \u001b[0mX\u001b[0m\u001b[0;34m,\u001b[0m \u001b[0my\u001b[0m\u001b[0;34m\u001b[0m\u001b[0;34m\u001b[0m\u001b[0m\n\u001b[1;32m    578\u001b[0m \u001b[0;34m\u001b[0m\u001b[0m\n",
      "\u001b[0;32m~/opt/anaconda3/lib/python3.8/site-packages/sklearn/utils/validation.py\u001b[0m in \u001b[0;36mcheck_X_y\u001b[0;34m(X, y, accept_sparse, accept_large_sparse, dtype, order, copy, force_all_finite, ensure_2d, allow_nd, multi_output, ensure_min_samples, ensure_min_features, y_numeric, estimator)\u001b[0m\n\u001b[1;32m    971\u001b[0m     \u001b[0my\u001b[0m \u001b[0;34m=\u001b[0m \u001b[0m_check_y\u001b[0m\u001b[0;34m(\u001b[0m\u001b[0my\u001b[0m\u001b[0;34m,\u001b[0m \u001b[0mmulti_output\u001b[0m\u001b[0;34m=\u001b[0m\u001b[0mmulti_output\u001b[0m\u001b[0;34m,\u001b[0m \u001b[0my_numeric\u001b[0m\u001b[0;34m=\u001b[0m\u001b[0my_numeric\u001b[0m\u001b[0;34m)\u001b[0m\u001b[0;34m\u001b[0m\u001b[0;34m\u001b[0m\u001b[0m\n\u001b[1;32m    972\u001b[0m \u001b[0;34m\u001b[0m\u001b[0m\n\u001b[0;32m--> 973\u001b[0;31m     \u001b[0mcheck_consistent_length\u001b[0m\u001b[0;34m(\u001b[0m\u001b[0mX\u001b[0m\u001b[0;34m,\u001b[0m \u001b[0my\u001b[0m\u001b[0;34m)\u001b[0m\u001b[0;34m\u001b[0m\u001b[0;34m\u001b[0m\u001b[0m\n\u001b[0m\u001b[1;32m    974\u001b[0m \u001b[0;34m\u001b[0m\u001b[0m\n\u001b[1;32m    975\u001b[0m     \u001b[0;32mreturn\u001b[0m \u001b[0mX\u001b[0m\u001b[0;34m,\u001b[0m \u001b[0my\u001b[0m\u001b[0;34m\u001b[0m\u001b[0;34m\u001b[0m\u001b[0m\n",
      "\u001b[0;32m~/opt/anaconda3/lib/python3.8/site-packages/sklearn/utils/validation.py\u001b[0m in \u001b[0;36mcheck_consistent_length\u001b[0;34m(*arrays)\u001b[0m\n\u001b[1;32m    327\u001b[0m \u001b[0;34m\u001b[0m\u001b[0m\n\u001b[1;32m    328\u001b[0m     \u001b[0mlengths\u001b[0m \u001b[0;34m=\u001b[0m \u001b[0;34m[\u001b[0m\u001b[0m_num_samples\u001b[0m\u001b[0;34m(\u001b[0m\u001b[0mX\u001b[0m\u001b[0;34m)\u001b[0m \u001b[0;32mfor\u001b[0m \u001b[0mX\u001b[0m \u001b[0;32min\u001b[0m \u001b[0marrays\u001b[0m \u001b[0;32mif\u001b[0m \u001b[0mX\u001b[0m \u001b[0;32mis\u001b[0m \u001b[0;32mnot\u001b[0m \u001b[0;32mNone\u001b[0m\u001b[0;34m]\u001b[0m\u001b[0;34m\u001b[0m\u001b[0;34m\u001b[0m\u001b[0m\n\u001b[0;32m--> 329\u001b[0;31m     \u001b[0muniques\u001b[0m \u001b[0;34m=\u001b[0m \u001b[0mnp\u001b[0m\u001b[0;34m.\u001b[0m\u001b[0munique\u001b[0m\u001b[0;34m(\u001b[0m\u001b[0mlengths\u001b[0m\u001b[0;34m)\u001b[0m\u001b[0;34m\u001b[0m\u001b[0;34m\u001b[0m\u001b[0m\n\u001b[0m\u001b[1;32m    330\u001b[0m     \u001b[0;32mif\u001b[0m \u001b[0mlen\u001b[0m\u001b[0;34m(\u001b[0m\u001b[0muniques\u001b[0m\u001b[0;34m)\u001b[0m \u001b[0;34m>\u001b[0m \u001b[0;36m1\u001b[0m\u001b[0;34m:\u001b[0m\u001b[0;34m\u001b[0m\u001b[0;34m\u001b[0m\u001b[0m\n\u001b[1;32m    331\u001b[0m         raise ValueError(\n",
      "\u001b[0;32m<__array_function__ internals>\u001b[0m in \u001b[0;36munique\u001b[0;34m(*args, **kwargs)\u001b[0m\n",
      "\u001b[0;32m~/opt/anaconda3/lib/python3.8/site-packages/numpy/lib/arraysetops.py\u001b[0m in \u001b[0;36munique\u001b[0;34m(ar, return_index, return_inverse, return_counts, axis)\u001b[0m\n\u001b[1;32m    259\u001b[0m     \u001b[0mar\u001b[0m \u001b[0;34m=\u001b[0m \u001b[0mnp\u001b[0m\u001b[0;34m.\u001b[0m\u001b[0masanyarray\u001b[0m\u001b[0;34m(\u001b[0m\u001b[0mar\u001b[0m\u001b[0;34m)\u001b[0m\u001b[0;34m\u001b[0m\u001b[0;34m\u001b[0m\u001b[0m\n\u001b[1;32m    260\u001b[0m     \u001b[0;32mif\u001b[0m \u001b[0maxis\u001b[0m \u001b[0;32mis\u001b[0m \u001b[0;32mNone\u001b[0m\u001b[0;34m:\u001b[0m\u001b[0;34m\u001b[0m\u001b[0;34m\u001b[0m\u001b[0m\n\u001b[0;32m--> 261\u001b[0;31m         \u001b[0mret\u001b[0m \u001b[0;34m=\u001b[0m \u001b[0m_unique1d\u001b[0m\u001b[0;34m(\u001b[0m\u001b[0mar\u001b[0m\u001b[0;34m,\u001b[0m \u001b[0mreturn_index\u001b[0m\u001b[0;34m,\u001b[0m \u001b[0mreturn_inverse\u001b[0m\u001b[0;34m,\u001b[0m \u001b[0mreturn_counts\u001b[0m\u001b[0;34m)\u001b[0m\u001b[0;34m\u001b[0m\u001b[0;34m\u001b[0m\u001b[0m\n\u001b[0m\u001b[1;32m    262\u001b[0m         \u001b[0;32mreturn\u001b[0m \u001b[0m_unpack_tuple\u001b[0m\u001b[0;34m(\u001b[0m\u001b[0mret\u001b[0m\u001b[0;34m)\u001b[0m\u001b[0;34m\u001b[0m\u001b[0;34m\u001b[0m\u001b[0m\n\u001b[1;32m    263\u001b[0m \u001b[0;34m\u001b[0m\u001b[0m\n",
      "\u001b[0;32m~/opt/anaconda3/lib/python3.8/site-packages/numpy/lib/arraysetops.py\u001b[0m in \u001b[0;36m_unique1d\u001b[0;34m(ar, return_index, return_inverse, return_counts)\u001b[0m\n\u001b[1;32m    322\u001b[0m         \u001b[0mar\u001b[0m\u001b[0;34m.\u001b[0m\u001b[0msort\u001b[0m\u001b[0;34m(\u001b[0m\u001b[0;34m)\u001b[0m\u001b[0;34m\u001b[0m\u001b[0;34m\u001b[0m\u001b[0m\n\u001b[1;32m    323\u001b[0m         \u001b[0maux\u001b[0m \u001b[0;34m=\u001b[0m \u001b[0mar\u001b[0m\u001b[0;34m\u001b[0m\u001b[0;34m\u001b[0m\u001b[0m\n\u001b[0;32m--> 324\u001b[0;31m     \u001b[0mmask\u001b[0m \u001b[0;34m=\u001b[0m \u001b[0mnp\u001b[0m\u001b[0;34m.\u001b[0m\u001b[0mempty\u001b[0m\u001b[0;34m(\u001b[0m\u001b[0maux\u001b[0m\u001b[0;34m.\u001b[0m\u001b[0mshape\u001b[0m\u001b[0;34m,\u001b[0m \u001b[0mdtype\u001b[0m\u001b[0;34m=\u001b[0m\u001b[0mnp\u001b[0m\u001b[0;34m.\u001b[0m\u001b[0mbool_\u001b[0m\u001b[0;34m)\u001b[0m\u001b[0;34m\u001b[0m\u001b[0;34m\u001b[0m\u001b[0m\n\u001b[0m\u001b[1;32m    325\u001b[0m     \u001b[0mmask\u001b[0m\u001b[0;34m[\u001b[0m\u001b[0;34m:\u001b[0m\u001b[0;36m1\u001b[0m\u001b[0;34m]\u001b[0m \u001b[0;34m=\u001b[0m \u001b[0;32mTrue\u001b[0m\u001b[0;34m\u001b[0m\u001b[0;34m\u001b[0m\u001b[0m\n\u001b[1;32m    326\u001b[0m     \u001b[0mmask\u001b[0m\u001b[0;34m[\u001b[0m\u001b[0;36m1\u001b[0m\u001b[0;34m:\u001b[0m\u001b[0;34m]\u001b[0m \u001b[0;34m=\u001b[0m \u001b[0maux\u001b[0m\u001b[0;34m[\u001b[0m\u001b[0;36m1\u001b[0m\u001b[0;34m:\u001b[0m\u001b[0;34m]\u001b[0m \u001b[0;34m!=\u001b[0m \u001b[0maux\u001b[0m\u001b[0;34m[\u001b[0m\u001b[0;34m:\u001b[0m\u001b[0;34m-\u001b[0m\u001b[0;36m1\u001b[0m\u001b[0;34m]\u001b[0m\u001b[0;34m\u001b[0m\u001b[0;34m\u001b[0m\u001b[0m\n",
      "\u001b[0;31mKeyboardInterrupt\u001b[0m: "
     ]
    }
   ],
   "source": [
    "for noise_lvl in [0, 100, 200, 400, 800]:\n",
    "    for d in [2]:\n",
    "        for n in range(10, 901, 200):\n",
    "            results[(noise_lvl,d,n)] = []\n",
    "            for seed in range(5):\n",
    "                results[(noise_lvl,d,n)].append(experiment(d=d, n=n, eps_noisy_max=noise_lvl/n, \\\n",
    "                                                            eps_abv_thrsh=noise_lvl/n))\n",
    "\n",
    "            print(\"noise_lvl=\", noise_lvl, \"d=\",d, \", n=\", n,\" results:\", results[(noise_lvl,d,n)])"
   ]
  },
  {
   "cell_type": "code",
   "execution_count": 60,
   "metadata": {},
   "outputs": [],
   "source": [
    "import statistics as stats\n",
    "import matplotlib.pyplot as plt "
   ]
  },
  {
   "cell_type": "code",
   "execution_count": 38,
   "metadata": {},
   "outputs": [],
   "source": [
    "results_per_d_mean = {}\n",
    "\n",
    "results_mean = np.zeros((1001, 50, 901))\n",
    "results_CI = np.zeros((1001, 50, 901))\n",
    "\n",
    "for noise_lvl in [0, 100, 200, 400, 800]:\n",
    "    for d in [15]:\n",
    "        for n in range(100, 901, 200):\n",
    "            results_mean[noise_lvl, d, n] = np.mean(results[(noise_lvl,d,n)]) \n",
    "            results_CI[noise_lvl, d, n] = 0.878 * stats.stdev(results[(noise_lvl,d,n)])"
   ]
  },
  {
   "cell_type": "code",
   "execution_count": 39,
   "metadata": {},
   "outputs": [],
   "source": [
    "d=15"
   ]
  },
  {
   "cell_type": "code",
   "execution_count": 41,
   "metadata": {},
   "outputs": [
    {
     "data": {
      "image/png": "[encoded data removed]",
      "text/plain": [
       "<Figure size 432x288 with 1 Axes>"
      ]
     },
     "metadata": {
      "needs_background": "light"
     },
     "output_type": "display_data"
    }
   ],
   "source": [
    "plt.plot(range(100,901, 200), results_mean[0,d,100::200], 'b-', label=\"noise=\"+str(0))\n",
    "#plt.plot(range(100,901, 200), results_mean[0,10,100::200] - results_CI[0,10,100::200], 'b--')\n",
    "#plt.plot(range(100,901, 200), results_mean[0,10,100::200] + results_CI[0,10,100::200], 'b--')\n",
    "\n",
    "plt.plot(range(100,901, 200), results_mean[100,d,100::200], 'c-', label=\"noise=\"+str(100))\n",
    "#plt.plot(range(100,901, 200), results_mean[1,10,100::200] - results_CI[1,10,100::200], 'c--')\n",
    "#plt.plot(range(100,901, 200), results_mean[1,10,100::200] + results_CI[1,10,100::200], 'c--')\n",
    "\n",
    "plt.plot(range(100,901, 200), results_mean[200,d,100::200], 'g-', label=\"noise=\"+str(200))\n",
    "#plt.plot(range(100,901, 200), results_mean[10,10,100::200] - results_CI[10,10,100::200], 'g--')\n",
    "#plt.plot(range(100,901, 200), results_mean[10,10,100::200] + results_CI[10,10,100::200], 'g--')\n",
    "\n",
    "plt.plot(range(100,901, 200), results_mean[400,d,100::200], 'y-', label=\"noise=\"+str(400))\n",
    "#plt.plot(range(100,901, 200), results_mean[100,10,100::200] - results_CI[100,10,100::200], 'y--')\n",
    "#plt.plot(range(100,901, 200), results_mean[100,10,100::200] + results_CI[100,10,100::200], 'y--')\n",
    "\n",
    "plt.plot(range(100,901, 200), results_mean[800,d,100::200], 'r-', label=\"noise=\"+str(800))\n",
    "\n",
    "plt.ylim((0,1.))\n",
    "plt.xlabel('# datapoints')\n",
    "plt.ylabel('success rate')\n",
    "plt.legend()\n",
    "plt.title(\"d=\" + str(d))\n",
    "plt.savefig(\"graph_d=15_comparison.pdf\");"
   ]
  },
  {
   "cell_type": "code",
   "execution_count": 27,
   "metadata": {
    "scrolled": true
   },
   "outputs": [
    {
     "name": "stdout",
     "output_type": "stream",
     "text": [
      "noise_lvl= 0.01 d= 10 , n= 100  results: [0.3333333333333333, 0.23333333333333334, 0.3, 0.26666666666666666, 0.26666666666666666]\n",
      "noise_lvl= 0.01 d= 10 , n= 300  results: [0.5, 0.5, 0.5, 0.7333333333333333, 0.36666666666666664]\n",
      "noise_lvl= 0.01 d= 10 , n= 500  results: [0.5, 0.5333333333333333, 0.5666666666666667, 0.6666666666666666, 0.4666666666666667]\n",
      "noise_lvl= 0.01 d= 10 , n= 700  results: [0.5666666666666667, 0.6333333333333333, 0.6666666666666666, 0.5666666666666667, 0.7666666666666667]\n",
      "noise_lvl= 0.01 d= 10 , n= 900  results: [0.7666666666666667, 0.7333333333333333, 0.6, 0.5666666666666667, 0.7333333333333333]\n",
      "noise_lvl= 0.01 d= 15 , n= 100  results: [0.06666666666666667, 0.06666666666666667, 0.2, 0.1, 0.13333333333333333]\n",
      "noise_lvl= 0.01 d= 15 , n= 300  results: [0.3, 0.3, 0.13333333333333333, 0.23333333333333334, 0.26666666666666666]\n",
      "noise_lvl= 0.01 d= 15 , n= 500  results: [0.3333333333333333, 0.4666666666666667, 0.43333333333333335, 0.43333333333333335, 0.4]\n",
      "noise_lvl= 0.01 d= 15 , n= 700  results: [0.4, 0.3, 0.4, 0.5333333333333333, 0.4666666666666667]\n",
      "noise_lvl= 0.01 d= 15 , n= 900  results: [0.43333333333333335, 0.36666666666666664, 0.4, 0.43333333333333335, 0.5]\n",
      "noise_lvl= 0.01 d= 20 , n= 100  results: [0.1, 0.03333333333333333, 0.16666666666666666, 0.13333333333333333, 0.06666666666666667]\n",
      "noise_lvl= 0.01 d= 20 , n= 300  results: [0.06666666666666667, 0.13333333333333333, 0.03333333333333333, 0.1, 0.03333333333333333]\n",
      "noise_lvl= 0.01 d= 20 , n= 500  results: [0.03333333333333333, 0.23333333333333334, 0.1, 0.0, 0.16666666666666666]\n",
      "noise_lvl= 0.01 d= 20 , n= 700  results: [0.1, 0.13333333333333333, 0.1, 0.13333333333333333, 0.23333333333333334]\n",
      "noise_lvl= 0.01 d= 20 , n= 900  results: [0.16666666666666666, 0.23333333333333334, 0.16666666666666666, 0.2, 0.26666666666666666]\n",
      "noise_lvl= 0.1 d= 10 , n= 100  results: [0.3, 0.3333333333333333, 0.4, 0.26666666666666666, 0.4]\n",
      "noise_lvl= 0.1 d= 10 , n= 300  results: [0.5333333333333333, 0.5, 0.6, 0.4666666666666667, 0.3]\n",
      "noise_lvl= 0.1 d= 10 , n= 500  results: [0.5333333333333333, 0.5333333333333333, 0.4, 0.6333333333333333, 0.5666666666666667]\n",
      "noise_lvl= 0.1 d= 10 , n= 700  results: [0.4666666666666667, 0.5333333333333333, 0.5666666666666667, 0.6333333333333333, 0.6666666666666666]\n",
      "noise_lvl= 0.1 d= 10 , n= 900  results: [0.5333333333333333, 0.6666666666666666, 0.6666666666666666, 0.6666666666666666, 0.7]\n",
      "noise_lvl= 0.1 d= 15 , n= 100  results: [0.2, 0.16666666666666666, 0.13333333333333333, 0.13333333333333333, 0.3]\n",
      "noise_lvl= 0.1 d= 15 , n= 300  results: [0.2, 0.2, 0.23333333333333334, 0.26666666666666666, 0.13333333333333333]\n",
      "noise_lvl= 0.1 d= 15 , n= 500  results: [0.26666666666666666, 0.43333333333333335, 0.3333333333333333, 0.2, 0.3333333333333333]\n",
      "noise_lvl= 0.1 d= 15 , n= 700  results: [0.43333333333333335, 0.3333333333333333, 0.43333333333333335, 0.43333333333333335, 0.4666666666666667]\n",
      "noise_lvl= 0.1 d= 15 , n= 900  results: [0.6, 0.5666666666666667, 0.5, 0.36666666666666664, 0.23333333333333334]\n",
      "noise_lvl= 0.1 d= 20 , n= 100  results: [0.1, 0.1, 0.13333333333333333, 0.1, 0.1]\n",
      "noise_lvl= 0.1 d= 20 , n= 300  results: [0.03333333333333333, 0.1, 0.13333333333333333, 0.03333333333333333, 0.03333333333333333]\n",
      "noise_lvl= 0.1 d= 20 , n= 500  results: [0.13333333333333333, 0.13333333333333333, 0.13333333333333333, 0.06666666666666667, 0.13333333333333333]\n",
      "noise_lvl= 0.1 d= 20 , n= 700  results: [0.1, 0.26666666666666666, 0.26666666666666666, 0.26666666666666666, 0.13333333333333333]\n",
      "noise_lvl= 0.1 d= 20 , n= 900  results: [0.06666666666666667, 0.13333333333333333, 0.13333333333333333, 0.13333333333333333, 0.16666666666666666]\n",
      "noise_lvl= 0.3 d= 10 , n= 100  results: [0.36666666666666664, 0.2, 0.3333333333333333, 0.26666666666666666, 0.23333333333333334]\n",
      "noise_lvl= 0.3 d= 10 , n= 300  results: [0.4, 0.26666666666666666, 0.43333333333333335, 0.5, 0.6]\n",
      "noise_lvl= 0.3 d= 10 , n= 500  results: [0.7666666666666667, 0.5666666666666667, 0.7666666666666667, 0.7, 0.4666666666666667]\n",
      "noise_lvl= 0.3 d= 10 , n= 700  results: [0.7, 0.6, 0.6333333333333333, 0.5666666666666667, 0.8333333333333334]\n",
      "noise_lvl= 0.3 d= 10 , n= 900  results: [0.6333333333333333, 0.36666666666666664, 0.5666666666666667, 0.7666666666666667, 0.6]\n",
      "noise_lvl= 0.3 d= 15 , n= 100  results: [0.03333333333333333, 0.13333333333333333, 0.23333333333333334, 0.16666666666666666, 0.13333333333333333]\n",
      "noise_lvl= 0.3 d= 15 , n= 300  results: [0.1, 0.3333333333333333, 0.36666666666666664, 0.16666666666666666, 0.3]\n",
      "noise_lvl= 0.3 d= 15 , n= 500  results: [0.26666666666666666, 0.23333333333333334, 0.3333333333333333, 0.3, 0.23333333333333334]\n",
      "noise_lvl= 0.3 d= 15 , n= 700  results: [0.4, 0.26666666666666666, 0.43333333333333335, 0.4666666666666667, 0.2]\n",
      "noise_lvl= 0.3 d= 15 , n= 900  results: [0.4, 0.4, 0.3333333333333333, 0.26666666666666666, 0.43333333333333335]\n",
      "noise_lvl= 0.3 d= 20 , n= 100  results: [0.1, 0.16666666666666666, 0.03333333333333333, 0.1, 0.26666666666666666]\n",
      "noise_lvl= 0.3 d= 20 , n= 300  results: [0.1, 0.16666666666666666, 0.0, 0.2, 0.1]\n",
      "noise_lvl= 0.3 d= 20 , n= 500  results: [0.13333333333333333, 0.06666666666666667, 0.13333333333333333, 0.16666666666666666, 0.13333333333333333]\n",
      "noise_lvl= 0.3 d= 20 , n= 700  results: [0.26666666666666666, 0.1, 0.16666666666666666, 0.1, 0.1]\n",
      "noise_lvl= 0.3 d= 20 , n= 900  results: [0.2, 0.2, 0.2, 0.2, 0.2]\n",
      "noise_lvl= 0.5 d= 10 , n= 100  results: [0.3333333333333333, 0.3, 0.2, 0.26666666666666666, 0.36666666666666664]\n",
      "noise_lvl= 0.5 d= 10 , n= 300  results: [0.36666666666666664, 0.4, 0.4666666666666667, 0.5666666666666667, 0.4666666666666667]\n",
      "noise_lvl= 0.5 d= 10 , n= 500  results: [0.7666666666666667, 0.43333333333333335, 0.6333333333333333, 0.6333333333333333, 0.5]\n",
      "noise_lvl= 0.5 d= 10 , n= 700  results: [0.5333333333333333, 0.5333333333333333, 0.6, 0.7333333333333333, 0.6]\n",
      "noise_lvl= 0.5 d= 10 , n= 900  results: [0.5333333333333333, 0.7666666666666667, 0.6666666666666666, 0.8333333333333334, 0.7666666666666667]\n",
      "noise_lvl= 0.5 d= 15 , n= 100  results: [0.16666666666666666, 0.03333333333333333, 0.13333333333333333, 0.1, 0.26666666666666666]\n",
      "noise_lvl= 0.5 d= 15 , n= 300  results: [0.2, 0.26666666666666666, 0.2, 0.3333333333333333, 0.3]\n",
      "noise_lvl= 0.5 d= 15 , n= 500  results: [0.16666666666666666, 0.3, 0.16666666666666666, 0.36666666666666664, 0.26666666666666666]\n",
      "noise_lvl= 0.5 d= 15 , n= 700  results: [0.43333333333333335, 0.3333333333333333, 0.36666666666666664, 0.4, 0.4666666666666667]\n",
      "noise_lvl= 0.5 d= 15 , n= 900  results: [0.3333333333333333, 0.4, 0.4666666666666667, 0.36666666666666664, 0.3]\n",
      "noise_lvl= 0.5 d= 20 , n= 100  results: [0.13333333333333333, 0.06666666666666667, 0.1, 0.06666666666666667, 0.06666666666666667]\n",
      "noise_lvl= 0.5 d= 20 , n= 300  results: [0.13333333333333333, 0.16666666666666666, 0.23333333333333334, 0.13333333333333333, 0.0]\n",
      "noise_lvl= 0.5 d= 20 , n= 500  results: [0.06666666666666667, 0.13333333333333333, 0.13333333333333333, 0.13333333333333333, 0.1]\n",
      "noise_lvl= 0.5 d= 20 , n= 700  results: [0.1, 0.23333333333333334, 0.1, 0.2, 0.1]\n",
      "noise_lvl= 0.5 d= 20 , n= 900  results: [0.2, 0.1, 0.13333333333333333, 0.16666666666666666, 0.06666666666666667]\n"
     ]
    }
   ],
   "source": [
    "results = {}\n",
    "\n",
    "for noise_lvl in [1., 2., 4., 8., 16., 32.]:\n",
    "    for d in [10, 15,20]:\n",
    "        for n in range(100, 901, 200):\n",
    "            results[(noise_lvl,d,n)] = []\n",
    "            for seed in range(5):\n",
    "                results[(noise_lvl,d,n)].append(experiment(d=d, n=n, noise_lvls=(noise_lvl/n, noise_lvl/n)))\n",
    "\n",
    "            print(\"noise_lvl=\", noise_lvl, \"d=\",d, \", n=\", n,\" results:\", results[(noise_lvl,d,n)])"
   ]
  },
  {
   "cell_type": "code",
   "execution_count": 28,
   "metadata": {
    "scrolled": true
   },
   "outputs": [
    {
     "name": "stdout",
     "output_type": "stream",
     "text": [
      "noise_lvl= 1.0 d= 10 , n= 100  results: [0.26666666666666666, 0.26666666666666666, 0.36666666666666664, 0.16666666666666666, 0.3]\n",
      "noise_lvl= 1.0 d= 10 , n= 300  results: [0.4666666666666667, 0.5666666666666667, 0.43333333333333335, 0.5666666666666667, 0.36666666666666664]\n",
      "noise_lvl= 1.0 d= 10 , n= 500  results: [0.43333333333333335, 0.3333333333333333, 0.6666666666666666, 0.6666666666666666, 0.5]\n",
      "noise_lvl= 1.0 d= 10 , n= 700  results: [0.6333333333333333, 0.6333333333333333, 0.6, 0.6, 0.5333333333333333]\n",
      "noise_lvl= 1.0 d= 10 , n= 900  results: [0.7666666666666667, 0.6333333333333333, 0.7, 0.7333333333333333, 0.8]\n",
      "noise_lvl= 1.0 d= 15 , n= 100  results: [0.06666666666666667, 0.13333333333333333, 0.13333333333333333, 0.06666666666666667, 0.26666666666666666]\n",
      "noise_lvl= 1.0 d= 15 , n= 300  results: [0.3333333333333333, 0.16666666666666666, 0.3333333333333333, 0.2, 0.06666666666666667]\n",
      "noise_lvl= 1.0 d= 15 , n= 500  results: [0.26666666666666666, 0.3, 0.43333333333333335, 0.3333333333333333, 0.26666666666666666]\n",
      "noise_lvl= 1.0 d= 15 , n= 700  results: [0.23333333333333334, 0.43333333333333335, 0.4, 0.36666666666666664, 0.3]\n",
      "noise_lvl= 1.0 d= 15 , n= 900  results: [0.36666666666666664, 0.5, 0.3333333333333333, 0.5, 0.23333333333333334]\n",
      "noise_lvl= 1.0 d= 20 , n= 100  results: [0.03333333333333333, 0.03333333333333333, 0.1, 0.1, 0.23333333333333334]\n",
      "noise_lvl= 1.0 d= 20 , n= 300  results: [0.1, 0.13333333333333333, 0.13333333333333333, 0.16666666666666666, 0.03333333333333333]\n",
      "noise_lvl= 1.0 d= 20 , n= 500  results: [0.1, 0.16666666666666666, 0.16666666666666666, 0.1, 0.23333333333333334]\n",
      "noise_lvl= 1.0 d= 20 , n= 700  results: [0.23333333333333334, 0.1, 0.13333333333333333, 0.3333333333333333, 0.1]\n",
      "noise_lvl= 1.0 d= 20 , n= 900  results: [0.23333333333333334, 0.2, 0.36666666666666664, 0.3, 0.16666666666666666]\n",
      "noise_lvl= 2.0 d= 10 , n= 100  results: [0.4666666666666667, 0.3333333333333333, 0.4, 0.36666666666666664, 0.36666666666666664]\n",
      "noise_lvl= 2.0 d= 10 , n= 300  results: [0.5666666666666667, 0.26666666666666666, 0.6333333333333333, 0.4666666666666667, 0.4666666666666667]\n",
      "noise_lvl= 2.0 d= 10 , n= 500  results: [0.7666666666666667, 0.5333333333333333, 0.5, 0.6666666666666666, 0.7333333333333333]\n",
      "noise_lvl= 2.0 d= 10 , n= 700  results: [0.5666666666666667, 0.6333333333333333, 0.6, 0.7666666666666667, 0.7]\n",
      "noise_lvl= 2.0 d= 10 , n= 900  results: [0.6, 0.5, 0.7333333333333333, 0.7333333333333333, 0.7]\n",
      "noise_lvl= 2.0 d= 15 , n= 100  results: [0.2, 0.16666666666666666, 0.2, 0.16666666666666666, 0.1]\n",
      "noise_lvl= 2.0 d= 15 , n= 300  results: [0.3, 0.26666666666666666, 0.16666666666666666, 0.13333333333333333, 0.26666666666666666]\n",
      "noise_lvl= 2.0 d= 15 , n= 500  results: [0.26666666666666666, 0.13333333333333333, 0.3333333333333333, 0.43333333333333335, 0.3333333333333333]\n",
      "noise_lvl= 2.0 d= 15 , n= 700  results: [0.3333333333333333, 0.3333333333333333, 0.26666666666666666, 0.43333333333333335, 0.36666666666666664]\n",
      "noise_lvl= 2.0 d= 15 , n= 900  results: [0.6, 0.4, 0.5, 0.36666666666666664, 0.43333333333333335]\n",
      "noise_lvl= 2.0 d= 20 , n= 100  results: [0.13333333333333333, 0.1, 0.13333333333333333, 0.1, 0.1]\n",
      "noise_lvl= 2.0 d= 20 , n= 300  results: [0.2, 0.1, 0.13333333333333333, 0.23333333333333334, 0.1]\n",
      "noise_lvl= 2.0 d= 20 , n= 500  results: [0.13333333333333333, 0.06666666666666667, 0.2, 0.13333333333333333, 0.13333333333333333]\n",
      "noise_lvl= 2.0 d= 20 , n= 700  results: [0.13333333333333333, 0.2, 0.1, 0.16666666666666666, 0.06666666666666667]\n",
      "noise_lvl= 2.0 d= 20 , n= 900  results: [0.26666666666666666, 0.16666666666666666, 0.26666666666666666, 0.3, 0.23333333333333334]\n",
      "noise_lvl= 4.0 d= 10 , n= 100  results: [0.4666666666666667, 0.13333333333333333, 0.3333333333333333, 0.36666666666666664, 0.23333333333333334]\n",
      "noise_lvl= 4.0 d= 10 , n= 300  results: [0.5, 0.6, 0.5666666666666667, 0.4, 0.6666666666666666]\n",
      "noise_lvl= 4.0 d= 10 , n= 500  results: [0.4, 0.6333333333333333, 0.4666666666666667, 0.5666666666666667, 0.5333333333333333]\n",
      "noise_lvl= 4.0 d= 10 , n= 700  results: [0.5666666666666667, 0.5333333333333333, 0.6, 0.5333333333333333, 0.5333333333333333]\n",
      "noise_lvl= 4.0 d= 10 , n= 900  results: [0.6333333333333333, 0.7333333333333333, 0.8, 0.6333333333333333, 0.7333333333333333]\n",
      "noise_lvl= 4.0 d= 15 , n= 100  results: [0.16666666666666666, 0.1, 0.2, 0.1, 0.06666666666666667]\n",
      "noise_lvl= 4.0 d= 15 , n= 300  results: [0.2, 0.26666666666666666, 0.2, 0.26666666666666666, 0.2]\n",
      "noise_lvl= 4.0 d= 15 , n= 500  results: [0.3, 0.36666666666666664, 0.3, 0.2, 0.3333333333333333]\n",
      "noise_lvl= 4.0 d= 15 , n= 700  results: [0.3333333333333333, 0.36666666666666664, 0.43333333333333335, 0.36666666666666664, 0.26666666666666666]\n",
      "noise_lvl= 4.0 d= 15 , n= 900  results: [0.43333333333333335, 0.4, 0.5, 0.36666666666666664, 0.4]\n",
      "noise_lvl= 4.0 d= 20 , n= 100  results: [0.03333333333333333, 0.1, 0.1, 0.1, 0.06666666666666667]\n",
      "noise_lvl= 4.0 d= 20 , n= 300  results: [0.16666666666666666, 0.2, 0.03333333333333333, 0.16666666666666666, 0.1]\n",
      "noise_lvl= 4.0 d= 20 , n= 500  results: [0.13333333333333333, 0.13333333333333333, 0.13333333333333333, 0.16666666666666666, 0.1]\n",
      "noise_lvl= 4.0 d= 20 , n= 700  results: [0.3, 0.1, 0.2, 0.13333333333333333, 0.1]\n",
      "noise_lvl= 4.0 d= 20 , n= 900  results: [0.16666666666666666, 0.16666666666666666, 0.2, 0.16666666666666666, 0.16666666666666666]\n",
      "noise_lvl= 8.0 d= 10 , n= 100  results: [0.43333333333333335, 0.4666666666666667, 0.3333333333333333, 0.23333333333333334, 0.43333333333333335]\n",
      "noise_lvl= 8.0 d= 10 , n= 300  results: [0.4666666666666667, 0.5666666666666667, 0.5333333333333333, 0.43333333333333335, 0.4]\n",
      "noise_lvl= 8.0 d= 10 , n= 500  results: [0.6333333333333333, 0.7333333333333333, 0.7, 0.5333333333333333, 0.5333333333333333]\n",
      "noise_lvl= 8.0 d= 10 , n= 700  results: [0.5333333333333333, 0.7, 0.6666666666666666, 0.6333333333333333, 0.43333333333333335]\n",
      "noise_lvl= 8.0 d= 10 , n= 900  results: [0.7, 0.7, 0.6666666666666666, 0.7666666666666667, 0.5333333333333333]\n",
      "noise_lvl= 8.0 d= 15 , n= 100  results: [0.2, 0.06666666666666667, 0.13333333333333333, 0.3, 0.13333333333333333]\n",
      "noise_lvl= 8.0 d= 15 , n= 300  results: [0.26666666666666666, 0.3333333333333333, 0.16666666666666666, 0.26666666666666666, 0.3]\n",
      "noise_lvl= 8.0 d= 15 , n= 500  results: [0.2, 0.36666666666666664, 0.3, 0.23333333333333334, 0.26666666666666666]\n",
      "noise_lvl= 8.0 d= 15 , n= 700  results: [0.4, 0.4666666666666667, 0.3333333333333333, 0.3333333333333333, 0.3333333333333333]\n",
      "noise_lvl= 8.0 d= 15 , n= 900  results: [0.3333333333333333, 0.5, 0.5333333333333333, 0.5, 0.4]\n",
      "noise_lvl= 8.0 d= 20 , n= 100  results: [0.13333333333333333, 0.13333333333333333, 0.03333333333333333, 0.06666666666666667, 0.06666666666666667]\n",
      "noise_lvl= 8.0 d= 20 , n= 300  results: [0.06666666666666667, 0.03333333333333333, 0.1, 0.06666666666666667, 0.2]\n",
      "noise_lvl= 8.0 d= 20 , n= 500  results: [0.1, 0.2, 0.2, 0.2, 0.03333333333333333]\n",
      "noise_lvl= 8.0 d= 20 , n= 700  results: [0.13333333333333333, 0.13333333333333333, 0.1, 0.1, 0.26666666666666666]\n",
      "noise_lvl= 8.0 d= 20 , n= 900  results: [0.16666666666666666, 0.2, 0.3, 0.16666666666666666, 0.13333333333333333]\n",
      "noise_lvl= 16.0 d= 10 , n= 100  results: [0.43333333333333335, 0.4, 0.4, 0.4, 0.4]\n",
      "noise_lvl= 16.0 d= 10 , n= 300  results: [0.7, 0.5666666666666667, 0.6, 0.5666666666666667, 0.43333333333333335]\n",
      "noise_lvl= 16.0 d= 10 , n= 500  results: [0.6666666666666666, 0.6, 0.6, 0.5666666666666667, 0.5666666666666667]\n",
      "noise_lvl= 16.0 d= 10 , n= 700  results: [0.4666666666666667, 0.6333333333333333, 0.5666666666666667, 0.7666666666666667, 0.6333333333333333]\n",
      "noise_lvl= 16.0 d= 10 , n= 900  results: [0.6666666666666666, 0.7, 0.7, 0.6333333333333333, 0.5666666666666667]\n",
      "noise_lvl= 16.0 d= 15 , n= 100  results: [0.2, 0.13333333333333333, 0.3, 0.13333333333333333, 0.3]\n",
      "noise_lvl= 16.0 d= 15 , n= 300  results: [0.4, 0.2, 0.26666666666666666, 0.43333333333333335, 0.06666666666666667]\n",
      "noise_lvl= 16.0 d= 15 , n= 500  results: [0.3333333333333333, 0.43333333333333335, 0.4, 0.23333333333333334, 0.3333333333333333]\n",
      "noise_lvl= 16.0 d= 15 , n= 700  results: [0.36666666666666664, 0.3333333333333333, 0.3, 0.43333333333333335, 0.3333333333333333]\n",
      "noise_lvl= 16.0 d= 15 , n= 900  results: [0.4, 0.4, 0.5333333333333333, 0.36666666666666664, 0.43333333333333335]\n"
     ]
    },
    {
     "name": "stdout",
     "output_type": "stream",
     "text": [
      "noise_lvl= 16.0 d= 20 , n= 100  results: [0.16666666666666666, 0.13333333333333333, 0.13333333333333333, 0.16666666666666666, 0.13333333333333333]\n",
      "noise_lvl= 16.0 d= 20 , n= 300  results: [0.1, 0.13333333333333333, 0.06666666666666667, 0.13333333333333333, 0.1]\n",
      "noise_lvl= 16.0 d= 20 , n= 500  results: [0.23333333333333334, 0.16666666666666666, 0.26666666666666666, 0.13333333333333333, 0.2]\n",
      "noise_lvl= 16.0 d= 20 , n= 700  results: [0.16666666666666666, 0.16666666666666666, 0.13333333333333333, 0.2, 0.16666666666666666]\n",
      "noise_lvl= 16.0 d= 20 , n= 900  results: [0.2, 0.36666666666666664, 0.36666666666666664, 0.06666666666666667, 0.16666666666666666]\n",
      "noise_lvl= 32.0 d= 10 , n= 100  results: [0.4, 0.4666666666666667, 0.4, 0.36666666666666664, 0.5333333333333333]\n",
      "noise_lvl= 32.0 d= 10 , n= 300  results: [0.5, 0.6333333333333333, 0.5666666666666667, 0.6, 0.4666666666666667]\n",
      "noise_lvl= 32.0 d= 10 , n= 500  results: [0.5, 0.6333333333333333, 0.6666666666666666, 0.7333333333333333, 0.6]\n",
      "noise_lvl= 32.0 d= 10 , n= 700  results: [0.6333333333333333, 0.7, 0.7666666666666667, 0.7333333333333333, 0.5333333333333333]\n",
      "noise_lvl= 32.0 d= 10 , n= 900  results: [0.7, 0.9, 0.8, 0.7333333333333333, 0.5666666666666667]\n",
      "noise_lvl= 32.0 d= 15 , n= 100  results: [0.3, 0.23333333333333334, 0.23333333333333334, 0.3, 0.4]\n",
      "noise_lvl= 32.0 d= 15 , n= 300  results: [0.13333333333333333, 0.23333333333333334, 0.26666666666666666, 0.3333333333333333, 0.13333333333333333]\n",
      "noise_lvl= 32.0 d= 15 , n= 500  results: [0.2, 0.3, 0.26666666666666666, 0.3333333333333333, 0.3333333333333333]\n",
      "noise_lvl= 32.0 d= 15 , n= 700  results: [0.3333333333333333, 0.2, 0.4, 0.4, 0.4666666666666667]\n"
     ]
    },
    {
     "ename": "KeyboardInterrupt",
     "evalue": "",
     "output_type": "error",
     "traceback": [
      "\u001b[0;31m---------------------------------------------------------------------------\u001b[0m",
      "\u001b[0;31mKeyboardInterrupt\u001b[0m                         Traceback (most recent call last)",
      "\u001b[0;32m<ipython-input-28-3049cb5e268f>\u001b[0m in \u001b[0;36m<module>\u001b[0;34m\u001b[0m\n\u001b[1;32m      4\u001b[0m             \u001b[0mresults\u001b[0m\u001b[0;34m[\u001b[0m\u001b[0;34m(\u001b[0m\u001b[0mnoise_lvl\u001b[0m\u001b[0;34m,\u001b[0m\u001b[0md\u001b[0m\u001b[0;34m,\u001b[0m\u001b[0mn\u001b[0m\u001b[0;34m)\u001b[0m\u001b[0;34m]\u001b[0m \u001b[0;34m=\u001b[0m \u001b[0;34m[\u001b[0m\u001b[0;34m]\u001b[0m\u001b[0;34m\u001b[0m\u001b[0;34m\u001b[0m\u001b[0m\n\u001b[1;32m      5\u001b[0m             \u001b[0;32mfor\u001b[0m \u001b[0mseed\u001b[0m \u001b[0;32min\u001b[0m \u001b[0mrange\u001b[0m\u001b[0;34m(\u001b[0m\u001b[0;36m5\u001b[0m\u001b[0;34m)\u001b[0m\u001b[0;34m:\u001b[0m\u001b[0;34m\u001b[0m\u001b[0;34m\u001b[0m\u001b[0m\n\u001b[0;32m----> 6\u001b[0;31m                 \u001b[0mresults\u001b[0m\u001b[0;34m[\u001b[0m\u001b[0;34m(\u001b[0m\u001b[0mnoise_lvl\u001b[0m\u001b[0;34m,\u001b[0m\u001b[0md\u001b[0m\u001b[0;34m,\u001b[0m\u001b[0mn\u001b[0m\u001b[0;34m)\u001b[0m\u001b[0;34m]\u001b[0m\u001b[0;34m.\u001b[0m\u001b[0mappend\u001b[0m\u001b[0;34m(\u001b[0m\u001b[0mexperiment\u001b[0m\u001b[0;34m(\u001b[0m\u001b[0md\u001b[0m\u001b[0;34m=\u001b[0m\u001b[0md\u001b[0m\u001b[0;34m,\u001b[0m \u001b[0mn\u001b[0m\u001b[0;34m=\u001b[0m\u001b[0mn\u001b[0m\u001b[0;34m,\u001b[0m \u001b[0mnoise_lvls\u001b[0m\u001b[0;34m=\u001b[0m\u001b[0;34m(\u001b[0m\u001b[0mnoise_lvl\u001b[0m\u001b[0;34m/\u001b[0m\u001b[0mn\u001b[0m\u001b[0;34m,\u001b[0m \u001b[0mnoise_lvl\u001b[0m\u001b[0;34m/\u001b[0m\u001b[0mn\u001b[0m\u001b[0;34m)\u001b[0m\u001b[0;34m)\u001b[0m\u001b[0;34m)\u001b[0m\u001b[0;34m\u001b[0m\u001b[0;34m\u001b[0m\u001b[0m\n\u001b[0m\u001b[1;32m      7\u001b[0m \u001b[0;34m\u001b[0m\u001b[0m\n\u001b[1;32m      8\u001b[0m             \u001b[0mprint\u001b[0m\u001b[0;34m(\u001b[0m\u001b[0;34m\"noise_lvl=\"\u001b[0m\u001b[0;34m,\u001b[0m \u001b[0mnoise_lvl\u001b[0m\u001b[0;34m,\u001b[0m \u001b[0;34m\"d=\"\u001b[0m\u001b[0;34m,\u001b[0m\u001b[0md\u001b[0m\u001b[0;34m,\u001b[0m \u001b[0;34m\", n=\"\u001b[0m\u001b[0;34m,\u001b[0m \u001b[0mn\u001b[0m\u001b[0;34m,\u001b[0m\u001b[0;34m\" results:\"\u001b[0m\u001b[0;34m,\u001b[0m \u001b[0mresults\u001b[0m\u001b[0;34m[\u001b[0m\u001b[0;34m(\u001b[0m\u001b[0mnoise_lvl\u001b[0m\u001b[0;34m,\u001b[0m\u001b[0md\u001b[0m\u001b[0;34m,\u001b[0m\u001b[0mn\u001b[0m\u001b[0;34m)\u001b[0m\u001b[0;34m]\u001b[0m\u001b[0;34m)\u001b[0m\u001b[0;34m\u001b[0m\u001b[0;34m\u001b[0m\u001b[0m\n",
      "\u001b[0;32m<ipython-input-26-ea23b043bc3e>\u001b[0m in \u001b[0;36mexperiment\u001b[0;34m(d, n, noise_lvls, trials, mu_range, sig_range)\u001b[0m\n\u001b[1;32m      6\u001b[0m         \u001b[0mdata\u001b[0m \u001b[0;34m=\u001b[0m \u001b[0msempler\u001b[0m\u001b[0;34m.\u001b[0m\u001b[0mLGANM\u001b[0m\u001b[0;34m(\u001b[0m\u001b[0mG\u001b[0m\u001b[0;34m,\u001b[0m \u001b[0mmu_range\u001b[0m\u001b[0;34m,\u001b[0m \u001b[0msig_range\u001b[0m\u001b[0;34m)\u001b[0m\u001b[0;34m.\u001b[0m\u001b[0msample\u001b[0m\u001b[0;34m(\u001b[0m\u001b[0mn\u001b[0m\u001b[0;34m=\u001b[0m\u001b[0mn\u001b[0m\u001b[0;34m)\u001b[0m\u001b[0;34m\u001b[0m\u001b[0;34m\u001b[0m\u001b[0m\n\u001b[1;32m      7\u001b[0m         \u001b[0;31m#estimate, score = ges.fit(GaussObsL0Pen(data), phases=['forward', 'backward'])\u001b[0m\u001b[0;34m\u001b[0m\u001b[0;34m\u001b[0m\u001b[0;34m\u001b[0m\u001b[0m\n\u001b[0;32m----> 8\u001b[0;31m         \u001b[0mestimate\u001b[0m\u001b[0;34m,\u001b[0m \u001b[0mscore\u001b[0m \u001b[0;34m=\u001b[0m \u001b[0mges\u001b[0m\u001b[0;34m.\u001b[0m\u001b[0mfit\u001b[0m\u001b[0;34m(\u001b[0m\u001b[0mGaussObsL0Pen\u001b[0m\u001b[0;34m(\u001b[0m\u001b[0mdata\u001b[0m\u001b[0;34m)\u001b[0m\u001b[0;34m,\u001b[0m \u001b[0mphases\u001b[0m\u001b[0;34m=\u001b[0m\u001b[0;34m[\u001b[0m\u001b[0;34m'forward'\u001b[0m\u001b[0;34m,\u001b[0m \u001b[0;34m'backward'\u001b[0m\u001b[0;34m]\u001b[0m\u001b[0;34m,\u001b[0m \u001b[0mnoise_lvls\u001b[0m\u001b[0;34m=\u001b[0m\u001b[0mnoise_lvls\u001b[0m\u001b[0;34m,\u001b[0m \u001b[0mdebug\u001b[0m\u001b[0;34m=\u001b[0m\u001b[0;36m0\u001b[0m\u001b[0;34m)\u001b[0m\u001b[0;34m\u001b[0m\u001b[0;34m\u001b[0m\u001b[0m\n\u001b[0m\u001b[1;32m      9\u001b[0m         \u001b[0;32mif\u001b[0m\u001b[0;34m(\u001b[0m\u001b[0mlen\u001b[0m\u001b[0;34m(\u001b[0m\u001b[0mnp\u001b[0m\u001b[0;34m.\u001b[0m\u001b[0mwhere\u001b[0m\u001b[0;34m(\u001b[0m\u001b[0mestimate\u001b[0m\u001b[0;34m>\u001b[0m\u001b[0;36m0\u001b[0m\u001b[0;34m)\u001b[0m\u001b[0;34m[\u001b[0m\u001b[0;36m0\u001b[0m\u001b[0;34m]\u001b[0m\u001b[0;34m)\u001b[0m \u001b[0;34m==\u001b[0m \u001b[0;36m0\u001b[0m\u001b[0;34m)\u001b[0m\u001b[0;34m:\u001b[0m \u001b[0;31m# GES found empty graph so it is correct and we stop early\u001b[0m\u001b[0;34m\u001b[0m\u001b[0;34m\u001b[0m\u001b[0m\n\u001b[1;32m     10\u001b[0m             \u001b[0msuccess\u001b[0m \u001b[0;34m+=\u001b[0m \u001b[0;36m1\u001b[0m\u001b[0;34m\u001b[0m\u001b[0;34m\u001b[0m\u001b[0m\n",
      "\u001b[0;32m~/src/ges/ges/main.py\u001b[0m in \u001b[0;36mfit\u001b[0;34m(score_class, A0, phases, noise_lvls, iterate, debug)\u001b[0m\n\u001b[1;32m    198\u001b[0m             \u001b[0mprint\u001b[0m\u001b[0;34m(\u001b[0m\u001b[0;34m\"-------------------------\"\u001b[0m\u001b[0;34m)\u001b[0m \u001b[0;32mif\u001b[0m \u001b[0mdebug\u001b[0m \u001b[0;32melse\u001b[0m \u001b[0;32mNone\u001b[0m\u001b[0;34m\u001b[0m\u001b[0;34m\u001b[0m\u001b[0m\n\u001b[1;32m    199\u001b[0m             \u001b[0madded\u001b[0m \u001b[0;34m=\u001b[0m \u001b[0;36m0\u001b[0m\u001b[0;34m\u001b[0m\u001b[0;34m\u001b[0m\u001b[0m\n\u001b[0;32m--> 200\u001b[0;31m             \u001b[0;32mwhile\u001b[0m \u001b[0madded\u001b[0m \u001b[0;34m<=\u001b[0m \u001b[0madd_max\u001b[0m\u001b[0;34m:\u001b[0m\u001b[0;34m\u001b[0m\u001b[0;34m\u001b[0m\u001b[0m\n\u001b[0m\u001b[1;32m    201\u001b[0m                 \u001b[0mscore_change\u001b[0m\u001b[0;34m,\u001b[0m \u001b[0mnew_A\u001b[0m \u001b[0;34m=\u001b[0m \u001b[0mfun\u001b[0m\u001b[0;34m(\u001b[0m\u001b[0mA\u001b[0m\u001b[0;34m,\u001b[0m \u001b[0mscore_class\u001b[0m\u001b[0;34m,\u001b[0m \u001b[0meps_noisy_max\u001b[0m\u001b[0;34m,\u001b[0m \u001b[0mmax\u001b[0m\u001b[0;34m(\u001b[0m\u001b[0;36m0\u001b[0m\u001b[0;34m,\u001b[0m \u001b[0mdebug\u001b[0m \u001b[0;34m-\u001b[0m \u001b[0;36m1\u001b[0m\u001b[0;34m)\u001b[0m\u001b[0;34m)\u001b[0m\u001b[0;34m\u001b[0m\u001b[0;34m\u001b[0m\u001b[0m\n\u001b[1;32m    202\u001b[0m                 \u001b[0mscore_change\u001b[0m \u001b[0;34m+=\u001b[0m \u001b[0mnp\u001b[0m\u001b[0;34m.\u001b[0m\u001b[0mrandom\u001b[0m\u001b[0;34m.\u001b[0m\u001b[0mlaplace\u001b[0m\u001b[0;34m(\u001b[0m\u001b[0mscale\u001b[0m\u001b[0;34m=\u001b[0m\u001b[0;36m2\u001b[0m\u001b[0;34m*\u001b[0m\u001b[0meps_abv_thrsh\u001b[0m\u001b[0;34m)\u001b[0m\u001b[0;34m\u001b[0m\u001b[0;34m\u001b[0m\u001b[0m\n",
      "\u001b[0;32m~/src/ges/ges/main.py\u001b[0m in \u001b[0;36mforward_step\u001b[0;34m(A, cache, eps_noisy_max, debug)\u001b[0m\n\u001b[1;32m    248\u001b[0m     \u001b[0;31m# For each edge, enumerate and score all valid operators\u001b[0m\u001b[0;34m\u001b[0m\u001b[0;34m\u001b[0m\u001b[0;34m\u001b[0m\u001b[0m\n\u001b[1;32m    249\u001b[0m     \u001b[0mvalid_operators\u001b[0m \u001b[0;34m=\u001b[0m \u001b[0;34m[\u001b[0m\u001b[0;34m]\u001b[0m\u001b[0;34m\u001b[0m\u001b[0;34m\u001b[0m\u001b[0m\n\u001b[0;32m--> 250\u001b[0;31m     \u001b[0mprint\u001b[0m\u001b[0;34m(\u001b[0m\u001b[0;34m\"  %d candidate edges\"\u001b[0m \u001b[0;34m%\u001b[0m \u001b[0mlen\u001b[0m\u001b[0;34m(\u001b[0m\u001b[0medge_candidates\u001b[0m\u001b[0;34m)\u001b[0m\u001b[0;34m)\u001b[0m \u001b[0;32mif\u001b[0m \u001b[0mdebug\u001b[0m \u001b[0;34m>\u001b[0m \u001b[0;36m1\u001b[0m \u001b[0;32melse\u001b[0m \u001b[0;32mNone\u001b[0m\u001b[0;34m\u001b[0m\u001b[0;34m\u001b[0m\u001b[0m\n\u001b[0m\u001b[1;32m    251\u001b[0m     \u001b[0;32mfor\u001b[0m \u001b[0;34m(\u001b[0m\u001b[0mx\u001b[0m\u001b[0;34m,\u001b[0m \u001b[0my\u001b[0m\u001b[0;34m)\u001b[0m \u001b[0;32min\u001b[0m \u001b[0medge_candidates\u001b[0m\u001b[0;34m:\u001b[0m\u001b[0;34m\u001b[0m\u001b[0;34m\u001b[0m\u001b[0m\n\u001b[1;32m    252\u001b[0m         \u001b[0mvalid_operators\u001b[0m \u001b[0;34m+=\u001b[0m \u001b[0mscore_valid_insert_operators\u001b[0m\u001b[0;34m(\u001b[0m\u001b[0mx\u001b[0m\u001b[0;34m,\u001b[0m \u001b[0my\u001b[0m\u001b[0;34m,\u001b[0m \u001b[0mA\u001b[0m\u001b[0;34m,\u001b[0m \u001b[0mcache\u001b[0m\u001b[0;34m,\u001b[0m \u001b[0mdebug\u001b[0m\u001b[0;34m=\u001b[0m\u001b[0mmax\u001b[0m\u001b[0;34m(\u001b[0m\u001b[0;36m0\u001b[0m\u001b[0;34m,\u001b[0m \u001b[0mdebug\u001b[0m \u001b[0;34m-\u001b[0m \u001b[0;36m1\u001b[0m\u001b[0;34m)\u001b[0m\u001b[0;34m)\u001b[0m\u001b[0;34m\u001b[0m\u001b[0;34m\u001b[0m\u001b[0m\n",
      "\u001b[0;32m~/src/ges/ges/main.py\u001b[0m in \u001b[0;36mscore_valid_insert_operators\u001b[0;34m(x, y, A, cache, debug)\u001b[0m\n\u001b[1;32m    475\u001b[0m             \u001b[0mcond_2\u001b[0m \u001b[0;34m=\u001b[0m \u001b[0;32mTrue\u001b[0m\u001b[0;34m\u001b[0m\u001b[0;34m\u001b[0m\u001b[0m\n\u001b[1;32m    476\u001b[0m         \u001b[0;32melse\u001b[0m\u001b[0;34m:\u001b[0m\u001b[0;34m\u001b[0m\u001b[0;34m\u001b[0m\u001b[0m\n\u001b[0;32m--> 477\u001b[0;31m             \u001b[0;31m# Check condition 2\u001b[0m\u001b[0;34m\u001b[0m\u001b[0;34m\u001b[0m\u001b[0;34m\u001b[0m\u001b[0m\n\u001b[0m\u001b[1;32m    478\u001b[0m             \u001b[0mcond_2\u001b[0m \u001b[0;34m=\u001b[0m \u001b[0;32mTrue\u001b[0m\u001b[0;34m\u001b[0m\u001b[0;34m\u001b[0m\u001b[0m\n\u001b[1;32m    479\u001b[0m             \u001b[0;32mfor\u001b[0m \u001b[0mpath\u001b[0m \u001b[0;32min\u001b[0m \u001b[0mutils\u001b[0m\u001b[0;34m.\u001b[0m\u001b[0msemi_directed_paths\u001b[0m\u001b[0;34m(\u001b[0m\u001b[0my\u001b[0m\u001b[0;34m,\u001b[0m \u001b[0mx\u001b[0m\u001b[0;34m,\u001b[0m \u001b[0mA\u001b[0m\u001b[0;34m)\u001b[0m\u001b[0;34m:\u001b[0m\u001b[0;34m\u001b[0m\u001b[0;34m\u001b[0m\u001b[0m\n",
      "\u001b[0;32m~/src/ges/ges/utils.py\u001b[0m in \u001b[0;36msemi_directed_paths\u001b[0;34m(fro, to, A)\u001b[0m\n\u001b[1;32m    259\u001b[0m     \u001b[0;31m# Precompute the nodes that are accessible from each node for a\u001b[0m\u001b[0;34m\u001b[0m\u001b[0;34m\u001b[0m\u001b[0;34m\u001b[0m\u001b[0m\n\u001b[1;32m    260\u001b[0m     \u001b[0;31m# significant increase in speed\u001b[0m\u001b[0;34m\u001b[0m\u001b[0;34m\u001b[0m\u001b[0;34m\u001b[0m\u001b[0m\n\u001b[0;32m--> 261\u001b[0;31m     \u001b[0maccessible\u001b[0m \u001b[0;34m=\u001b[0m \u001b[0mdict\u001b[0m\u001b[0;34m(\u001b[0m\u001b[0;34m(\u001b[0m\u001b[0mi\u001b[0m\u001b[0;34m,\u001b[0m \u001b[0mch\u001b[0m\u001b[0;34m(\u001b[0m\u001b[0mi\u001b[0m\u001b[0;34m,\u001b[0m \u001b[0mA\u001b[0m\u001b[0;34m)\u001b[0m \u001b[0;34m|\u001b[0m \u001b[0mneighbors\u001b[0m\u001b[0;34m(\u001b[0m\u001b[0mi\u001b[0m\u001b[0;34m,\u001b[0m \u001b[0mA\u001b[0m\u001b[0;34m)\u001b[0m\u001b[0;34m)\u001b[0m \u001b[0;32mfor\u001b[0m \u001b[0mi\u001b[0m \u001b[0;32min\u001b[0m \u001b[0mrange\u001b[0m\u001b[0;34m(\u001b[0m\u001b[0mlen\u001b[0m\u001b[0;34m(\u001b[0m\u001b[0mA\u001b[0m\u001b[0;34m)\u001b[0m\u001b[0;34m)\u001b[0m\u001b[0;34m)\u001b[0m\u001b[0;34m\u001b[0m\u001b[0;34m\u001b[0m\u001b[0m\n\u001b[0m\u001b[1;32m    262\u001b[0m     \u001b[0;32mwhile\u001b[0m \u001b[0mlen\u001b[0m\u001b[0;34m(\u001b[0m\u001b[0mstack\u001b[0m\u001b[0;34m)\u001b[0m \u001b[0;34m>\u001b[0m \u001b[0;36m0\u001b[0m\u001b[0;34m:\u001b[0m\u001b[0;34m\u001b[0m\u001b[0;34m\u001b[0m\u001b[0m\n\u001b[1;32m    263\u001b[0m         \u001b[0mcurrent_node\u001b[0m\u001b[0;34m,\u001b[0m \u001b[0mvisited\u001b[0m\u001b[0;34m,\u001b[0m \u001b[0mto_visit\u001b[0m \u001b[0;34m=\u001b[0m \u001b[0mstack\u001b[0m\u001b[0;34m[\u001b[0m\u001b[0;36m0\u001b[0m\u001b[0;34m]\u001b[0m\u001b[0;34m\u001b[0m\u001b[0;34m\u001b[0m\u001b[0m\n",
      "\u001b[0;32m~/src/ges/ges/utils.py\u001b[0m in \u001b[0;36m<genexpr>\u001b[0;34m(.0)\u001b[0m\n\u001b[1;32m    259\u001b[0m     \u001b[0;31m# Precompute the nodes that are accessible from each node for a\u001b[0m\u001b[0;34m\u001b[0m\u001b[0;34m\u001b[0m\u001b[0;34m\u001b[0m\u001b[0m\n\u001b[1;32m    260\u001b[0m     \u001b[0;31m# significant increase in speed\u001b[0m\u001b[0;34m\u001b[0m\u001b[0;34m\u001b[0m\u001b[0;34m\u001b[0m\u001b[0m\n\u001b[0;32m--> 261\u001b[0;31m     \u001b[0maccessible\u001b[0m \u001b[0;34m=\u001b[0m \u001b[0mdict\u001b[0m\u001b[0;34m(\u001b[0m\u001b[0;34m(\u001b[0m\u001b[0mi\u001b[0m\u001b[0;34m,\u001b[0m \u001b[0mch\u001b[0m\u001b[0;34m(\u001b[0m\u001b[0mi\u001b[0m\u001b[0;34m,\u001b[0m \u001b[0mA\u001b[0m\u001b[0;34m)\u001b[0m \u001b[0;34m|\u001b[0m \u001b[0mneighbors\u001b[0m\u001b[0;34m(\u001b[0m\u001b[0mi\u001b[0m\u001b[0;34m,\u001b[0m \u001b[0mA\u001b[0m\u001b[0;34m)\u001b[0m\u001b[0;34m)\u001b[0m \u001b[0;32mfor\u001b[0m \u001b[0mi\u001b[0m \u001b[0;32min\u001b[0m \u001b[0mrange\u001b[0m\u001b[0;34m(\u001b[0m\u001b[0mlen\u001b[0m\u001b[0;34m(\u001b[0m\u001b[0mA\u001b[0m\u001b[0;34m)\u001b[0m\u001b[0;34m)\u001b[0m\u001b[0;34m)\u001b[0m\u001b[0;34m\u001b[0m\u001b[0;34m\u001b[0m\u001b[0m\n\u001b[0m\u001b[1;32m    262\u001b[0m     \u001b[0;32mwhile\u001b[0m \u001b[0mlen\u001b[0m\u001b[0;34m(\u001b[0m\u001b[0mstack\u001b[0m\u001b[0;34m)\u001b[0m \u001b[0;34m>\u001b[0m \u001b[0;36m0\u001b[0m\u001b[0;34m:\u001b[0m\u001b[0;34m\u001b[0m\u001b[0;34m\u001b[0m\u001b[0m\n\u001b[1;32m    263\u001b[0m         \u001b[0mcurrent_node\u001b[0m\u001b[0;34m,\u001b[0m \u001b[0mvisited\u001b[0m\u001b[0;34m,\u001b[0m \u001b[0mto_visit\u001b[0m \u001b[0;34m=\u001b[0m \u001b[0mstack\u001b[0m\u001b[0;34m[\u001b[0m\u001b[0;36m0\u001b[0m\u001b[0;34m]\u001b[0m\u001b[0;34m\u001b[0m\u001b[0;34m\u001b[0m\u001b[0m\n",
      "\u001b[0;32m~/src/ges/ges/utils.py\u001b[0m in \u001b[0;36mch\u001b[0;34m(i, A)\u001b[0m\n\u001b[1;32m    140\u001b[0m \u001b[0;34m\u001b[0m\u001b[0m\n\u001b[1;32m    141\u001b[0m     \"\"\"\n\u001b[0;32m--> 142\u001b[0;31m     \u001b[0;32mreturn\u001b[0m \u001b[0mset\u001b[0m\u001b[0;34m(\u001b[0m\u001b[0mnp\u001b[0m\u001b[0;34m.\u001b[0m\u001b[0mwhere\u001b[0m\u001b[0;34m(\u001b[0m\u001b[0mnp\u001b[0m\u001b[0;34m.\u001b[0m\u001b[0mlogical_and\u001b[0m\u001b[0;34m(\u001b[0m\u001b[0mA\u001b[0m\u001b[0;34m[\u001b[0m\u001b[0mi\u001b[0m\u001b[0;34m,\u001b[0m \u001b[0;34m:\u001b[0m\u001b[0;34m]\u001b[0m \u001b[0;34m!=\u001b[0m \u001b[0;36m0\u001b[0m\u001b[0;34m,\u001b[0m \u001b[0mA\u001b[0m\u001b[0;34m[\u001b[0m\u001b[0;34m:\u001b[0m\u001b[0;34m,\u001b[0m \u001b[0mi\u001b[0m\u001b[0;34m]\u001b[0m \u001b[0;34m==\u001b[0m \u001b[0;36m0\u001b[0m\u001b[0;34m)\u001b[0m\u001b[0;34m)\u001b[0m\u001b[0;34m[\u001b[0m\u001b[0;36m0\u001b[0m\u001b[0;34m]\u001b[0m\u001b[0;34m)\u001b[0m\u001b[0;34m\u001b[0m\u001b[0;34m\u001b[0m\u001b[0m\n\u001b[0m\u001b[1;32m    143\u001b[0m \u001b[0;34m\u001b[0m\u001b[0m\n\u001b[1;32m    144\u001b[0m \u001b[0;34m\u001b[0m\u001b[0m\n",
      "\u001b[0;31mKeyboardInterrupt\u001b[0m: "
     ]
    }
   ],
   "source": [
    "for noise_lvl in [1., 2., 4., 8., 16., 32.]:\n",
    "    for d in [10, 15,20]:\n",
    "        for n in range(100, 901, 200):\n",
    "            results[(noise_lvl,d,n)] = []\n",
    "            for seed in range(5):\n",
    "                results[(noise_lvl,d,n)].append(experiment(d=d, n=n, noise_lvls=(noise_lvl/n, noise_lvl/n)))\n",
    "\n",
    "            print(\"noise_lvl=\", noise_lvl, \"d=\",d, \", n=\", n,\" results:\", results[(noise_lvl,d,n)])"
   ]
  },
  {
   "cell_type": "code",
   "execution_count": null,
   "metadata": {},
   "outputs": [],
   "source": []
  }
 ],
 "metadata": {
  "kernelspec": {
   "display_name": "Python 3",
   "language": "python",
   "name": "python3"
  },
  "language_info": {
   "codemirror_mode": {
    "name": "ipython",
    "version": 3
   },
   "file_extension": ".py",
   "mimetype": "text/x-python",
   "name": "python",
   "nbconvert_exporter": "python",
   "pygments_lexer": "ipython3",
   "version": "3.8.3"
  }
 },
 "nbformat": 4,
 "nbformat_minor": 4
}
